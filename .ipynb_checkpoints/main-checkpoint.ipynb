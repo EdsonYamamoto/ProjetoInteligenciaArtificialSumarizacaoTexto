{
 "cells": [
  {
   "cell_type": "code",
   "execution_count": 1,
   "metadata": {},
   "outputs": [
    {
     "name": "stderr",
     "output_type": "stream",
     "text": [
      "Using TensorFlow backend.\n"
     ]
    }
   ],
   "source": [
    "import numpy as np\n",
    "import pandas as pd\n",
    "import string\n",
    "import matplotlib.pyplot as plt\n",
    "from tensorflow.keras.layers import Input, LSTM, Dense, Embedding, Concatenate, TimeDistributed, Bidirectional, Attention\n",
    "from tensorflow.keras.models import Model\n",
    "from tensorflow.keras.preprocessing.text import Tokenizer\n",
    "from tensorflow.keras.preprocessing.sequence import pad_sequences\n",
    "from tensorflow.keras.callbacks import EarlyStopping, ModelCheckpoint\n",
    "import random\n",
    "from sklearn.model_selection import train_test_split\n",
    "import re\n",
    "from sklearn.model_selection import train_test_split\n",
    "import tensorflow as tf\n",
    "from random import randint\n",
    "from keras.preprocessing.text import one_hot\n",
    "import os\n",
    "import pandas as pd\n",
    "import re"
   ]
  },
  {
   "cell_type": "code",
   "execution_count": 2,
   "metadata": {},
   "outputs": [],
   "source": [
    "from stop_words import get_stop_words\n"
   ]
  },
  {
   "cell_type": "code",
   "execution_count": 327,
   "metadata": {},
   "outputs": [],
   "source": [
    "epochs = 50\n",
    "batchSize = 8\n",
    "\n",
    "max_len_text=200 \n",
    "max_len_summary=20\n",
    "checkpoint = \"weights/weights-improvement-{epoch:02d}-{loss:.4f}-bigger.hdf5\"\n",
    "dataset = \"dataset/articles.csv\""
   ]
  },
  {
   "cell_type": "code",
   "execution_count": 143,
   "metadata": {},
   "outputs": [
    {
     "name": "stdout",
     "output_type": "stream",
     "text": [
      "(20346, 6)\n",
      "                                              titulo  \\\n",
      "0  Lula diz que está 'lascado', mas que ainda tem...   \n",
      "1  'Decidi ser escrava das mulheres que sofrem', ...   \n",
      "2  Três reportagens da Folha ganham Prêmio Petrob...   \n",
      "3  Filme 'Star Wars: Os Últimos Jedi' ganha trail...   \n",
      "4  CBSS inicia acordos com fintechs e quer 30% do...   \n",
      "\n",
      "                                               texto        data  categoria  \\\n",
      "0  Com a possibilidade de uma condenação impedir ...  2017-09-10      poder   \n",
      "1  Para Oumou Sangaré, cantora e ativista malines...  2017-09-10  ilustrada   \n",
      "2  Três reportagens da Folha foram vencedoras do ...  2017-09-10      poder   \n",
      "3  A Disney divulgou na noite desta segunda-feira...  2017-09-10  ilustrada   \n",
      "4  O CBSS, banco da holding Elopar dos sócios Bra...  2017-09-10    mercado   \n",
      "\n",
      "  subcategoria                                               link  \n",
      "0          NaN  http://www1.folha.uol.com.br/poder/2017/10/192...  \n",
      "1          NaN  http://www1.folha.uol.com.br/ilustrada/2017/10...  \n",
      "2          NaN  http://www1.folha.uol.com.br/poder/2017/10/192...  \n",
      "3          NaN  http://www1.folha.uol.com.br/ilustrada/2017/10...  \n",
      "4          NaN  http://www1.folha.uol.com.br/mercado/2017/10/1...  \n",
      "titulo              0\n",
      "texto             157\n",
      "data                0\n",
      "categoria           0\n",
      "subcategoria    16231\n",
      "link                0\n",
      "dtype: int64\n"
     ]
    }
   ],
   "source": [
    "\n",
    "#df = pd.read_json(\"dataset.json\", encoding='utf-8')\n",
    "df = pd.read_csv(dataset, encoding='utf-8')\n",
    "\n",
    "print(df.shape)\n",
    "print(df.head())\n",
    "print(df.isnull().sum())"
   ]
  },
  {
   "cell_type": "code",
   "execution_count": 144,
   "metadata": {},
   "outputs": [],
   "source": [
    "df = df.dropna()"
   ]
  },
  {
   "cell_type": "code",
   "execution_count": 384,
   "metadata": {
    "scrolled": false
   },
   "outputs": [
    {
     "data": {
      "text/html": [
       "<div>\n",
       "<style scoped>\n",
       "    .dataframe tbody tr th:only-of-type {\n",
       "        vertical-align: middle;\n",
       "    }\n",
       "\n",
       "    .dataframe tbody tr th {\n",
       "        vertical-align: top;\n",
       "    }\n",
       "\n",
       "    .dataframe thead th {\n",
       "        text-align: right;\n",
       "    }\n",
       "</style>\n",
       "<table border=\"1\" class=\"dataframe\">\n",
       "  <thead>\n",
       "    <tr style=\"text-align: right;\">\n",
       "      <th></th>\n",
       "      <th>titulo</th>\n",
       "      <th>texto</th>\n",
       "      <th>data</th>\n",
       "      <th>categoria</th>\n",
       "      <th>subcategoria</th>\n",
       "      <th>link</th>\n",
       "      <th>cleaned_text</th>\n",
       "      <th>cleaned_summary</th>\n",
       "    </tr>\n",
       "  </thead>\n",
       "  <tbody>\n",
       "    <tr>\n",
       "      <th>count</th>\n",
       "      <td>4107</td>\n",
       "      <td>4107</td>\n",
       "      <td>4107</td>\n",
       "      <td>4107</td>\n",
       "      <td>4107</td>\n",
       "      <td>4107</td>\n",
       "      <td>4107</td>\n",
       "      <td>4107</td>\n",
       "    </tr>\n",
       "    <tr>\n",
       "      <th>unique</th>\n",
       "      <td>4065</td>\n",
       "      <td>4095</td>\n",
       "      <td>150</td>\n",
       "      <td>7</td>\n",
       "      <td>179</td>\n",
       "      <td>4107</td>\n",
       "      <td>4095</td>\n",
       "      <td>4065</td>\n",
       "    </tr>\n",
       "    <tr>\n",
       "      <th>top</th>\n",
       "      <td>Aviso</td>\n",
       "      <td>O colunista está em férias.</td>\n",
       "      <td>2017-08-27</td>\n",
       "      <td>colunas</td>\n",
       "      <td>monicabergamo</td>\n",
       "      <td>http://www1.folha.uol.com.br/colunas/luiz-hort...</td>\n",
       "      <td>o colunista está em férias</td>\n",
       "      <td>_START_ aviso _END_</td>\n",
       "    </tr>\n",
       "    <tr>\n",
       "      <th>freq</th>\n",
       "      <td>36</td>\n",
       "      <td>5</td>\n",
       "      <td>89</td>\n",
       "      <td>3484</td>\n",
       "      <td>516</td>\n",
       "      <td>1</td>\n",
       "      <td>5</td>\n",
       "      <td>36</td>\n",
       "    </tr>\n",
       "  </tbody>\n",
       "</table>\n",
       "</div>"
      ],
      "text/plain": [
       "       titulo                        texto        data categoria  \\\n",
       "count    4107                         4107        4107      4107   \n",
       "unique   4065                         4095         150         7   \n",
       "top     Aviso  O colunista está em férias.  2017-08-27   colunas   \n",
       "freq       36                            5          89      3484   \n",
       "\n",
       "         subcategoria                                               link  \\\n",
       "count            4107                                               4107   \n",
       "unique            179                                               4107   \n",
       "top     monicabergamo  http://www1.folha.uol.com.br/colunas/luiz-hort...   \n",
       "freq              516                                                  1   \n",
       "\n",
       "                       cleaned_text      cleaned_summary  \n",
       "count                          4107                 4107  \n",
       "unique                         4095                 4065  \n",
       "top     o colunista está em férias   _START_ aviso _END_  \n",
       "freq                              5                   36  "
      ]
     },
     "execution_count": 384,
     "metadata": {},
     "output_type": "execute_result"
    }
   ],
   "source": [
    "df.describe()"
   ]
  },
  {
   "cell_type": "code",
   "execution_count": 146,
   "metadata": {},
   "outputs": [],
   "source": [
    "contractions = {\"ain't\": \"is not\", \"aren't\": \"are not\",\"can't\": \"cannot\", \"'cause\": \"because\", \"could've\": \"could have\", \"couldn't\": \"could not\",\n",
    "                           \"didn't\": \"did not\", \"doesn't\": \"does not\", \"don't\": \"do not\", \"hadn't\": \"had not\", \"hasn't\": \"has not\", \"haven't\": \"have not\",\n",
    "                           \"he'd\": \"he would\",\"he'll\": \"he will\", \"he's\": \"he is\", \"how'd\": \"how did\", \"how'd'y\": \"how do you\", \"how'll\": \"how will\", \"how's\": \"how is\",\n",
    "                           \"I'd\": \"I would\", \"I'd've\": \"I would have\", \"I'll\": \"I will\", \"I'll've\": \"I will have\",\"I'm\": \"I am\", \"I've\": \"I have\", \"i'd\": \"i would\",\n",
    "                           \"i'd've\": \"i would have\", \"i'll\": \"i will\",  \"i'll've\": \"i will have\",\"i'm\": \"i am\", \"i've\": \"i have\", \"isn't\": \"is not\", \"it'd\": \"it would\",\n",
    "                           \"it'd've\": \"it would have\", \"it'll\": \"it will\", \"it'll've\": \"it will have\",\"it's\": \"it is\", \"let's\": \"let us\", \"ma'am\": \"madam\",\n",
    "                           \"mayn't\": \"may not\", \"might've\": \"might have\",\"mightn't\": \"might not\",\"mightn't've\": \"might not have\", \"must've\": \"must have\",\n",
    "                           \"mustn't\": \"must not\", \"mustn't've\": \"must not have\", \"needn't\": \"need not\", \"needn't've\": \"need not have\",\"o'clock\": \"of the clock\",\n",
    "                           \"oughtn't\": \"ought not\", \"oughtn't've\": \"ought not have\", \"shan't\": \"shall not\", \"sha'n't\": \"shall not\", \"shan't've\": \"shall not have\",\n",
    "                           \"she'd\": \"she would\", \"she'd've\": \"she would have\", \"she'll\": \"she will\", \"she'll've\": \"she will have\", \"she's\": \"she is\",\n",
    "                           \"should've\": \"should have\", \"shouldn't\": \"should not\", \"shouldn't've\": \"should not have\", \"so've\": \"so have\",\"so's\": \"so as\",\n",
    "                           \"this's\": \"this is\",\"that'd\": \"that wo uld\", \"that'd've\": \"that would have\", \"that's\": \"that is\", \"there'd\": \"there would\",\n",
    "                           \"there'd've\": \"there would have\", \"there's\": \"there is\", \"here's\": \"here is\",\"they'd\": \"they would\", \"they'd've\": \"they would have\",\n",
    "                           \"they'll\": \"they will\", \"they'll've\": \"they will have\", \"they're\": \"they are\", \"they've\": \"they have\", \"to've\": \"to have\",\n",
    "                           \"wasn't\": \"was not\", \"we'd\": \"we would\", \"we'd've\": \"we would have\", \"we'll\": \"we will\", \"we'll've\": \"we will have\", \"we're\": \"we are\",\n",
    "                           \"we've\": \"we have\", \"weren't\": \"were not\", \"what'll\": \"what will\", \"what'll've\": \"what will have\", \"what're\": \"what are\",\n",
    "                           \"what's\": \"what is\", \"what've\": \"what have\", \"when's\": \"when is\", \"when've\": \"when have\", \"where'd\": \"where did\", \"where's\": \"where is\",\n",
    "                           \"where've\": \"where have\", \"who'll\": \"who will\", \"who'll've\": \"who will have\", \"who's\": \"who is\", \"who've\": \"who have\",\n",
    "                           \"why's\": \"why is\", \"why've\": \"why have\", \"will've\": \"will have\", \"won't\": \"will not\", \"won't've\": \"will not have\",\n",
    "                           \"would've\": \"would have\", \"wouldn't\": \"would not\", \"wouldn't've\": \"would not have\", \"y'all\": \"you all\",\n",
    "                           \"y'all'd\": \"you all would\",\"y'all'd've\": \"you all would have\",\"y'all're\": \"you all are\",\"y'all've\": \"you all have\",\n",
    "                           \"you'd\": \"you would\", \"you'd've\": \"you would have\", \"you'll\": \"you will\", \"you'll've\": \"you will have\",\n",
    "                           \"you're\": \"you are\", \"you've\": \"you have\"}"
   ]
  },
  {
   "cell_type": "code",
   "execution_count": 385,
   "metadata": {},
   "outputs": [
    {
     "data": {
      "text/plain": [
       "['\\n\\t\\tDa escola ao 1º emprego: como buscar um caminho profissional sem ter (ao menos ainda) um diploma universitário\\n\\t\\t',\n",
       " '50 anos depois da morte, o Che é apenas uma foto na camiseta',\n",
       " 'Afinal, nosso voto tem preço?',\n",
       " 'Cientista dá psicodélico para minicérebros, e eles gostam',\n",
       " 'Reestruturação da Sabesp deverá ser levada à Justiça por setor de limpeza',\n",
       " 'Em série sobre Revolução Russa, Mika Lins lê teses famosas de Lênin',\n",
       " 'Preservar passado é um dos grandes desafios dos processos de revitalização',\n",
       " 'Não à Copa sem Lionel Messi',\n",
       " 'UNE processa Lollapalooza por suspeita de burlar lei da meia entrada',\n",
       " \"Esquerda pode tomar democratas, que vivem 'cabo-de-guerra', diz 'NYT'\"]"
      ]
     },
     "execution_count": 385,
     "metadata": {},
     "output_type": "execute_result"
    }
   ],
   "source": [
    "df['titulo'][:10].tolist()"
   ]
  },
  {
   "cell_type": "code",
   "execution_count": 387,
   "metadata": {},
   "outputs": [
    {
     "data": {
      "text/plain": [
       "['DA BBC BRASIL  O trimestre de maio a julho deste ano foi encerrado com um índice de desemprego na casa de 12,8%.  O percentual assusta, mas é menor do que os 13,7% apurados no fim do período imediatamente anterior. Os dados mostram um quadro preocupante, mas que sugere que o pior da crise pode já ter ficado para trás.  Só que a situação dos trabalhadores entre 18 e 24 anos é mais complicada do que a da média.  Segundo a mesma pesquisa do IBGE, nada menos do que 28,8% dos jovens nessa faixa etária estavam desocupados ao fim do primeiro trimestre de 2017. Esse percentual recorde equivale a 4,503 milhões de pessoas.  Os trabalhadores mais novos sempre sofrem mais com as crises e o desemprego decorrente.  Por um lado, eles representam custos menores (e menos produtividade perdida) para as empresas na hora da demissão.  De outro, a menor experiência no mercado dificulta a busca por oportunidades.  Mas é fato também que os empregos que exigem menor qualificação costumam ser os primeiros a surgirem em maior número nas retomadas.  Dados do Ministério do Trabalho apontam que, das 1,24 milhão de contratações feitas no último mês de maio, quase metade foram de trabalhadores com até 29 anos.  Os maiores destaques na geração de empregos formais para os jovens foram os setores de serviços, com 21,8 mil vagas; a indústria da transformação, com 12,6 mil postos, e o comércio, com 11,8 mil.  Concentrar a procura por vagas nesses segmentos é uma boa ideia para os jovens que buscam uma recolocação ou mesmo entrar no mercado de trabalho. Mas não só.  PORTAS DE ENTRADA  Programas de capacitação profissional são uma maneira de melhorar as próprias qualificações e, de quebra, conseguir o tão sonhado primeiro emprego.  E muitos deles não apenas são gratuitos como fornecem vários tipos de auxílio. Um exemplo é o Instituto Formare, que qualifica jovens carentes para o mercado de trabalho por meio de parcerias com empresas.  \"O nosso jovem-alvo é aquele que possui indicadores sociais desfavoráveis, mas também muita vontade de crescer. Um jovem para quem ninguém estendeu a mão ainda\", resume Claudio Anjos, diretor institucional do Instituto Formare. Por indicadores sociais desfavoráveis entenda-se, neste caso específico, uma renda familiar que não ultrapasse um salário mínimo por pessoa.  Cerca de 80% dos jovens assistidos pelo programa em um dos seus 170 cursos lançados até agora conseguem vagas formais de emprego nos primeiros três meses após a formatura, a maioria nas próprias empresas em que foram treinados.  Não é incomum que haja listas de mil jovens em busca das 20 vagas em média de um curso.  O primeiro funil é uma prova básica de português e matemática. Depois, entrevistas e dinâmicas de grupo em que o interesse, a força de vontade e a capacidade de colaboração dos jovens são medidos.  Passada essa fase, são os indicadores socioeconômicos, junto com a proximidade entre a residência do jovem e a empresa em questão, que vão decidir quem entra ou não.  \"Fazemos uma combinação entre quem mais quer e quem mais precisa\", completa Beth Callia, coordenadora-geral do instituto.  O curso dura cerca de um ano e consiste em um primeiro núcleo básico e, depois, em disciplinas específicas à realidade de cada empresa. Os alunos recebem uma bolsa-auxílio de meio salário-mínimo, uniforme e todos os benefícios que a empresa parceira concede aos seus funcionários.  É comum, aliás, que estes jovens sejam os primeiros das suas famílias a contar com benefícios de qualquer ordem e, mais tarde, com um trabalho formal.  A certificação é reconhecida pelo Ministério da Educação.  Gerente de treinamento e desenvolvimento do Hotel Grand Hyatt de São Paulo - parceiro do Instituto Formare e de outra iniciativa do mesmo gênero para jovens já maiores de idade e especializada na área de turismo, o Youth Career Iniciative (YCI) -, Lígia Shimizu é responsável por coordenar as ações de treinamento da equipe do hotel, de recepctionistas bilíngues a camareiras e cozinheiros, passando também pelo pessoal administrativo.  No meio desta força de trabalho estão atualmente 12 alunos do Formare e 12 do YCI, fora 30 aprendizes e 30 estagiários. Dos 70 líderes da empresa, aliás, 41 têm menos de 35 anos - caso da própria Lígia, que tem apenas 26 anos.  Durante os programas, os jovens costumam passar por todos os setores do hotel. Áreas como a recepção (que exige o conhecimento do inglês) e os setores mais administrativos (onde a maioria dos funcionários possui nível superior), no entanto, não costumam abrigar os recém-formados no programa, ao menos não de primeira. Mas a história desses jovens é repleta de casos de superação.  Formada pela turma de 2011, Natalia Cordeiro não foi efetivada logo após o curso, mas entrou na equipe do hotel um pouco mais tarde como aprendiz - muitos dos 30 ex-alunos do Formare atualmente no Hyatt foram contratados primeiro como aprendizes e estagiários, o que mostra também o quanto a persistência e a força de vontade são cruciais nessa fase da carreira.  Depois de promovida a estagiária e com significativa melhora no inglês, ela partiu para Dubai, onde trabalhou em uma unidade local da rede.  De volta a São Paulo, foi contratada em abril deste ano como estagiária e, em julho, aos 22 anos, efetivada como assistente de recursos humanos.  QUANDO O CÉU É O LIMITE  Um dos casos mais impressionantes nesse sentido é o do mineiro Everton Alves, de 35 anos.  Ex-aluno da turma do Formare de 1999, ele trabalha hoje como diretor de operações e vendas da Sambatech, empresa especializada em armazenagem e distribuição de conteúdos digitais.  Auxiliar de pedreiro na adolescência, ele conseguiu o primeiro emprego cinco meses após se formar no projeto.  Trabalhando na indústria de autopeças, ele passou rapidamente do chão de fábrica para a área de qualidade graças ao estofo fornecido pelo Formare e também por causa do curso técnico que ele decidiu fazer assim que entrou no mercado.  \"A minha família inteira, que é bastante humilde, sempre trabalhou na indústria. Nós viemos de Contagem, que é uma zona industrial. E ali, na Sambatech, uma start-up, eu tinha 27 anos e era o mais velho da sala\", recorda.  Com a intenção de retribuir aquilo que recebeu, Everton atuou como educador voluntário do programa entre 2009 e 2012 nas disciplinas de informática e raciocínio lógico. Uma vez, há cinco anos, foi parado na rua por um ex-aluno que havia assistido a apenas uma aula sua, a última.  \"Ele me disse que aquela aula mudou a sua vida. E isso, pra mim, foi inesquecível. Eu sei o que eles estão vivendo, parece meio intangível falar em ter sucesso na carreira. Mas quando alguém como eu fala com eles é como se houvesse um espelho\", diz.  O apoio da família nos períodos mais difíceis é fundamental para o jovem que não possui um diploma mas deseja crescer na carreira.  \"Durante o período que eu cursava o Formare, eu simplesmente não parava em casa. Era curso o dia todo e escola de noite. Muitos dos meus amigos naquela época passavam o dia à toa, no máximo tinham (cursado) o colégio. Mas a minha família sempre me incentivou muito. Fui o primeiro a cursar uma faculdade, e todos os meus irmãos, mais novos do que eu, acabaram por também fazer o mesmo mais tarde\", conta.  A IMPORTÂNCIA DO PLANEJAMENTO E DAS ATIVIDADES SIMPLES  \"É preciso sacrificar uma parte das horas de lazer para dar esse upgrade nas qualificações. Não existe outro jeito. Quando você estiver finalmente empregado e com um salário um pouquinho maior, por que não fazer uma faculdade? Depois de concluir a faculdade, por que não uma pós? Ou aprender inglês, que é um diferencial e algo mais barato do que uma faculdade ou pós-graduação?\", exemplifica Fernando Mantovani, diretor-geral da consultoria Robert Half no Brasil.  Seja começando a carreira com a ajuda de programas sociais de capacitação, seja com o auxílio de programas governamentais ou privados de ajuda a jovens candidatos a emprego (veja uma lista deles ao final da reportagem), seja por conta própria, é importante também focar no planejamento.  Questionamentos como para onde se quer ir, quais os próximos passos e quais são os seus pontos fracos devem ser feitos constantemente.  Para Mantovani, é preciso também relativizar a importância do ensino superior no Brasil de hoje, dada a quantidade de cursos de péssima qualidade.  \"Muitas vezes o profissional se frustra porque faz aquela faculdade com bastante esforço, mas não consegue o emprego que achou que ia conseguir. A falta de controle da qualidade do ensino cria uma indústria estelionatária, onde o aluno acha que aprende e a instituição lhe dá um pedaço de papel que custou algum dinheiro mas não vale grande coisa\", opina.  Essa força de vontade na hora de aprimorar competências é fundamental e independe de grau de estudo ou condição social.  Para ele, vale muito mais a pena para o jovem que batalha pelo primeiro emprego investir em um bom curso técnico - ou mesmo cursar o ensino médio técnico - do que em um curso universitário de qualidade duvidosa.  E as empresas em geral e os recrutadores em particular também precisam mudar os seus parâmetros e avaliar essa questão de forma menos automática e mais cautelosa.  \"É preciso ter muito cuidado com essa pressão pelo curso superior. Gestores podem acabar dando preferência a profissionais com um ensino superior ruim em detrimento de um profissional técnico bom\", adverte.  Estudo recente do Sistema Nacional de Aprendizagem Industrial (Senai) apontou que o Brasil precisará qualificar 13 milhões de trabalhadores em ocupações industriais até 2020. Em países como Alemanha, Áustria, Suíça e Japão, mais da metade de todos os estudantes cursam alguma formação técnica junto com o ensino regular.  E mesmo no Brasil não é possível associar o nível técnico a salários necessariamente mais baixos.  Ainda segundo o Senai, um técnico em mineração recém-formado, por exemplo, tem hoje no país rendimentos iniciais de R$ 7 mil - salário de fazer inveja à maioria dos universitários em início de carreira.  Educação e qualificação profissional à parte, é importante lembrar que muitas vezes aquela ajuda providencial pode estar logo ao lado.  A relações-públicas Camilla Assreuy, por exemplo, ainda trabalhava no setor varejista de moda quando se deparou com uma profissional que havia perdido o seu emprego como estoquista em uma loja e precisava se recolocar.  \"Ela não fazia a menor ideia de como ou por onde começar a procurar trabalho\", recorda.  Com uma simples consulta a um aplicativo que integrava informações e serviços para os lojistas e funcionários do shopping em questão, e que a moça desconhecia, Camila encontrou não uma, mas dez vagas de estoquista para a profissional.  Ou seja: ninguém deve ter receio, vergonha ou preguiça de perguntar, pesquisar e pedir ajuda. E não só quando se trata do primeiro emprego.  PROGRAMAS DE QUALIFICAÇÃO GRATUITOS Alguns também oferecem benefícios ou feiras de oportunidades  Instituto Formare (para jovens entre 16 e 18 anos) http://www.formare.org.br/formare  Youth Career Iniciative (para jovens entre 18 e 24 anos) http://www.youthcareerinitiative.org/country/brazil  Programa Jovem Protagonista (para jovens entre 16 e 29 anos) http://jovemprotagonista.com/pt/home  Programas de emprego, estágio e/ou ligados à Lei da Aprendizagem:  Centro de Integração Empresa Escola http://www.ciee.org.br/portal/index.asp  Programa Jovem Cidadão (para jovens entre 16 e 21 anos residentes na Grande São Paulo, em Campinas, Piracicaba, São José dos Campos e Santos) http://www.emprego.sp.gov.br/emprego/jovem-cidadao  Programa Aprendiz Legal (para jovens entre 14 e 24 anos) http://site.aprendizlegal.org.br  Programa Aprendiz Paulista (para jovens entre 14 e 24 anos residentes no estado) https://www.empregasaopaulo.sp.gov.br/imoweb',\n",
       " 'Ernesto Rafael Guevara de La Serna, o homem, morreu (assassinado) na Bolívia há exatos 50 anos neste 9 de outubro.  Mas o \"Che\", o revolucionário, morrera antes na Cuba em que estão enterrados seus restos.  O \"Che\" perdeu internamente a batalha de ideias pelo modelo econômico que deveria ser implantado na ilha. Prevaleceu o modelo soviético, imposto pela necessidade de preservar o financiamento que a União Soviética concedia a Cuba.  Escreve, por exemplo, para \"El País\" o historiador cubano Rafael Rojas:  \"Quando Fidel Castro leu a carta de despedida do Che, no ato de constituição do Comitê Central do Partido Comunista de Cuba, em outubro de 1965, ficou evidente que o guevarismo não teria futuro na ilha. As naves haviam sido queimadas e o Congo e a Bolívia foram tentativas de provar que outra revolução, como a cubana, podia triunfar em qualquer nação do Terceiro Mundo\".  Na minha primeira visita a Cuba, em 1977, quando a ilha ainda era proibida para brasileiros, tivera idêntica sensação de que o \"Che\" já não cabia por lá. Escrevi, para o \"Estadão\", onde então trabalhava, um texto em que relatava a introdução completa do modelo soviético, a que o Che se opunha, e dizia em seguida:  \"Não é de estranhar, portanto, que a figura de Che Guevara seja alvo, hoje, de uma curiosa dicotomia: de um lado, exalta-se e idolatra-se a o Che revolucionário internacional, o homem que lutou no Congo e na Bolívia, o guerrilheiro infatigável. De outro, atira-se ao limbo o Che teórico, o defensor do Homem Novo, o idealista\".  Acrescentava no texto de 40 anos atrás: \"Sintomaticamente, até as revistas que serviram de veículo para a propagação das teses guevaristas –Cuba Socialista, Nuestra Indústria e Comércio Exterior– foram paulatinamente extintas\".    Isolado em Cuba, o Che acabou morrendo na Bolívia, igualmente isolado.  O coronel boliviano Gary Prado, que comandou as tropas que capturaram Guevara no dia 8 de outubro de 1967, contou em entrevista para o jornal \"El Deber\" que a guerrilha que o Che liderava estava reduzida a 17 homens quando o batalhão Manchego, de Prado, entrou na zona de operações.  O revolucionário foi traído, cruel ironia, exatamente pelos camponeses que pretendia libertar de suas infames condições de vida, sempre segundo o depoimento do coronel Gary Prado:  \"Recebemos informação de camponeses que haviam visto guerrilheiros na quebrada de El Churo. Montei a operação, cercamos a quebrada e se produziu o combate\".  Pouco depois, prossegue o relato, o coronel encontrou com dois dos guerrilheiros restantes e um deles lhe disse: \"Não me matem, sou o Che Guevara, para vocês valho mais vivo que morto\".  Foi assassinado no dia seguinte.  O coronel boliviano faz um julgamento impiedoso do Che: \"Dava pena. Era o fracasso de toda a sua vida, de sua série de fracassos porque não havia tido muito êxito em nenhuma das tarefas que havia empreendido em toda a sua vida\".  De fato, a revolução que ajudara a triunfar em Cuba deslizou mais e mais para uma burocracia tão sufocante que até seus líderes tratam, agora, de desconstruir, penosa e lentamente, sem abdicar da ditadura que o Che também apoiara.  O homem novo, que ele pretendia construir na África e na América Latina, não nasceu; ao contrário, está cada vez mais apegado a valores materiais, quando seu comandante, Fidel Castro, dizia que \"o homem não vive somente de dinheiro. Os trabalhadores devem aprender que seu trabalho é uma contribuição de que o povo inteiro e o Estado tiram proveito\" (entrevista de Fidel ao jornalista americano Herbert Mathews, em fins de 1967).  Nem os trabalhadores nem os camponeses aprenderam. Não é à toa, pois, que, 50 anos depois de sua morte, o Che seja apenas um objeto do consumo que ele desprezava, estampado em camisetas.',\n",
       " 'A reforma política aprovada pelo Congresso deixa claro o seu objetivo: impedir a renovação. Os mecanismos implementados servirão basicamente para resolver o maior problema dos grandes partidos políticos: a falta de dinheiro para financiar as suas campanhas.  Essa demanda desesperada por recursos públicos revela a natureza e a qualidade da nossa representatividade.  Os partidos não conseguem convencer o cidadão dos seus planos para o país que justifique um investimento nas suas propostas. Ao contrário pela enorme rejeição da população, os candidatos tradicionais se sentem premidos a gastar fortunas nas suas campanhas, pois o diálogo, a sola de sapato, a exposição transparente das suas plataformas não são suficientes para obterem os votos necessários.  O apego ao poder sempre foi uma característica dos nossos políticos, difícil imaginar que seja por um espírito de sacrifício e serviço ao povo brasileiro, mas provável, acredito, que seja pelo reconhecimento da falta de oportunidade na iniciativa privada de uma colocação com a mesma remuneração e quantidade de mordomias em relação à carga de trabalho.  Esse desejo de permanecer como mandatário ficou ainda mais forte com as denúncias da Lava Jato e o tratamento diferenciado para aqueles que gozam de foro privilegiado.  A aprovação de uma verba milionária –R$ 1,7 bilhão de reais– para o financiamento de campanha e uma cláusula de desempenho que servirá para distribuir as benesses destinadas as agremiações foram as principais modificações sancionadas.  A preocupação com temas que dessem mais liberdade e representatividade ao eleitor, como aprovação do voto facultativo, facilidade para a montagem de partidos, possibilidade de candidatura avulsa e redução de recursos dos pagadores de impostos para os partidos, não foram nem objeto de discussão. Para nós ficou, como de hábito no modelo do Estado brasileiro atual, mais uma conta a ser paga.  O \"custo da democracia\" foi o argumento utilizado em larga escala pelos congressistas para justificar a implantação do Fundão. Nada mais falacioso. A afirmação de que a democracia tem custo é resultado de um raciocínio equivocado que parte do princípio de que nosso voto tem preço. O custo da democracia cabe a cada um de nós que deve, de forma voluntária, utilizar seu tempo na busca e avaliação do seu candidato.  Não é correto desviar ainda mais recursos de impostos ou da poupança dos cidadãos para os partidos que, por serem representantes de uma parcela da sociedade, deveriam ser por essa sustentados.  Será salutar também que alguns políticos –provavelmente já há muito tempo afastados da área privada– entendam que as necessidades na vida real são resolvidas com muito trabalho, resiliência, sacrifício e não com recursos retirados compulsoriamente de terceiros.  Em 2018 caberá ao eleitor mostrar a todos que aprovaram essa reforma que a representatividade não está à venda.']"
      ]
     },
     "execution_count": 387,
     "metadata": {},
     "output_type": "execute_result"
    }
   ],
   "source": [
    "df['texto'][:3].tolist()"
   ]
  },
  {
   "cell_type": "code",
   "execution_count": 149,
   "metadata": {},
   "outputs": [],
   "source": [
    "def clean_text(text, remove_stopwords=True):\n",
    "    text = text.lower()\n",
    "    text = text.split()\n",
    "    new_text = []\n",
    "    for word in text:\n",
    "        if word in contractions:\n",
    "            new_text.append(contractions[word])\n",
    "        else:\n",
    "            new_text.append(word)\n",
    "            text = \" \".join(new_text)\n",
    "            text = re.sub(r'https?:\\/\\/.*[\\r\\n]*', '', text, flags=re.MULTILINE)\n",
    "            text = re.sub(r'\\<a href', ' ', text)\n",
    "            text = re.sub(r'&amp;', '', text)\n",
    "            text = re.sub(r'[_\"\\-;%()|+&=*%.,!?:#$@\\[\\]/]', ' ', text)\n",
    "            text = re.sub(r'<br />', ' ', text)\n",
    "            text = re.sub(r'\\'', ' ', text)\n",
    "            #if remove_stopwords:\n",
    "            #    text = text.split()\n",
    "            #    text = [w for w in text if not w in get_stop_words('portuguese')]\n",
    "            #    print(text)\n",
    "            #text = \" \".join(text)\n",
    "    return text"
   ]
  },
  {
   "cell_type": "code",
   "execution_count": 150,
   "metadata": {},
   "outputs": [],
   "source": [
    "\n",
    "cleaned_text = []\n",
    "for t in df['texto']:\n",
    "    cleaned_text.append(clean_text(t))"
   ]
  },
  {
   "cell_type": "code",
   "execution_count": null,
   "metadata": {},
   "outputs": [],
   "source": []
  },
  {
   "cell_type": "code",
   "execution_count": 151,
   "metadata": {},
   "outputs": [],
   "source": [
    "\n",
    "cleaned_summary = []\n",
    "for t in df['titulo']:\n",
    "    cleaned_summary.append(clean_text(t))\n"
   ]
  },
  {
   "cell_type": "code",
   "execution_count": 388,
   "metadata": {},
   "outputs": [
    {
     "data": {
      "text/plain": [
       "['da escola ao 1º emprego  como buscar um caminho profissional sem ter  ao menos ainda  um diploma universitário',\n",
       " '50 anos depois da morte  o che é apenas uma foto na camiseta',\n",
       " 'afinal  nosso voto tem preço ',\n",
       " 'cientista dá psicodélico para minicérebros  e eles gostam',\n",
       " 'reestruturação da sabesp deverá ser levada à justiça por setor de limpeza',\n",
       " 'em série sobre revolução russa  mika lins lê teses famosas de lênin',\n",
       " 'preservar passado é um dos grandes desafios dos processos de revitalização',\n",
       " 'não à copa sem lionel messi',\n",
       " 'une processa lollapalooza por suspeita de burlar lei da meia entrada',\n",
       " 'esquerda pode tomar democratas  que vivem  cabo de guerra   diz  nyt ']"
      ]
     },
     "execution_count": 388,
     "metadata": {},
     "output_type": "execute_result"
    }
   ],
   "source": [
    "cleaned_summary[:10]"
   ]
  },
  {
   "cell_type": "code",
   "execution_count": 153,
   "metadata": {},
   "outputs": [],
   "source": [
    "df['cleaned_text']=cleaned_text\n",
    "df['cleaned_summary']=cleaned_summary"
   ]
  },
  {
   "cell_type": "code",
   "execution_count": 392,
   "metadata": {},
   "outputs": [
    {
     "data": {
      "text/html": [
       "<div>\n",
       "<style scoped>\n",
       "    .dataframe tbody tr th:only-of-type {\n",
       "        vertical-align: middle;\n",
       "    }\n",
       "\n",
       "    .dataframe tbody tr th {\n",
       "        vertical-align: top;\n",
       "    }\n",
       "\n",
       "    .dataframe thead th {\n",
       "        text-align: right;\n",
       "    }\n",
       "</style>\n",
       "<table border=\"1\" class=\"dataframe\">\n",
       "  <thead>\n",
       "    <tr style=\"text-align: right;\">\n",
       "      <th></th>\n",
       "      <th>titulo</th>\n",
       "      <th>texto</th>\n",
       "      <th>data</th>\n",
       "      <th>categoria</th>\n",
       "      <th>subcategoria</th>\n",
       "      <th>link</th>\n",
       "      <th>cleaned_text</th>\n",
       "      <th>cleaned_summary</th>\n",
       "    </tr>\n",
       "  </thead>\n",
       "  <tbody>\n",
       "    <tr>\n",
       "      <th>43</th>\n",
       "      <td>\\n\\t\\tDa escola ao 1º emprego: como buscar um ...</td>\n",
       "      <td>DA BBC BRASIL  O trimestre de maio a julho des...</td>\n",
       "      <td>2017-09-10</td>\n",
       "      <td>sobretudo</td>\n",
       "      <td>carreiras</td>\n",
       "      <td>http://www1.folha.uol.com.br/sobretudo/carreir...</td>\n",
       "      <td>da bbc brasil o trimestre de maio a julho dest...</td>\n",
       "      <td>_START_ da escola ao 1º emprego  como buscar u...</td>\n",
       "    </tr>\n",
       "    <tr>\n",
       "      <th>46</th>\n",
       "      <td>50 anos depois da morte, o Che é apenas uma fo...</td>\n",
       "      <td>Ernesto Rafael Guevara de La Serna, o homem, m...</td>\n",
       "      <td>2017-09-10</td>\n",
       "      <td>colunas</td>\n",
       "      <td>clovisrossi</td>\n",
       "      <td>http://www1.folha.uol.com.br/colunas/clovisros...</td>\n",
       "      <td>ernesto rafael guevara de la serna  o homem  m...</td>\n",
       "      <td>_START_ 50 anos depois da morte  o che é apena...</td>\n",
       "    </tr>\n",
       "    <tr>\n",
       "      <th>59</th>\n",
       "      <td>Afinal, nosso voto tem preço?</td>\n",
       "      <td>A reforma política aprovada pelo Congresso dei...</td>\n",
       "      <td>2017-09-10</td>\n",
       "      <td>colunas</td>\n",
       "      <td>joao-amoedo</td>\n",
       "      <td>http://www1.folha.uol.com.br/colunas/joao-amoe...</td>\n",
       "      <td>a reforma política aprovada pelo congresso dei...</td>\n",
       "      <td>_START_ afinal  nosso voto tem preço  _END_</td>\n",
       "    </tr>\n",
       "    <tr>\n",
       "      <th>62</th>\n",
       "      <td>Cientista dá psicodélico para minicérebros, e ...</td>\n",
       "      <td>A batalha de jovens neurocientistas para reabi...</td>\n",
       "      <td>2017-09-10</td>\n",
       "      <td>colunas</td>\n",
       "      <td>marceloleite</td>\n",
       "      <td>http://www1.folha.uol.com.br/colunas/marcelole...</td>\n",
       "      <td>a batalha de jovens neurocientistas para reabi...</td>\n",
       "      <td>_START_ cientista dá psicodélico para minicére...</td>\n",
       "    </tr>\n",
       "    <tr>\n",
       "      <th>63</th>\n",
       "      <td>Reestruturação da Sabesp deverá ser levada à J...</td>\n",
       "      <td>Associações de empresas de limpeza urbana e re...</td>\n",
       "      <td>2017-09-10</td>\n",
       "      <td>colunas</td>\n",
       "      <td>mercadoaberto</td>\n",
       "      <td>http://www1.folha.uol.com.br/colunas/mercadoab...</td>\n",
       "      <td>associações de empresas de limpeza urbana e re...</td>\n",
       "      <td>_START_ reestruturação da sabesp deverá ser le...</td>\n",
       "    </tr>\n",
       "  </tbody>\n",
       "</table>\n",
       "</div>"
      ],
      "text/plain": [
       "                                               titulo  \\\n",
       "43  \\n\\t\\tDa escola ao 1º emprego: como buscar um ...   \n",
       "46  50 anos depois da morte, o Che é apenas uma fo...   \n",
       "59                      Afinal, nosso voto tem preço?   \n",
       "62  Cientista dá psicodélico para minicérebros, e ...   \n",
       "63  Reestruturação da Sabesp deverá ser levada à J...   \n",
       "\n",
       "                                                texto        data  categoria  \\\n",
       "43  DA BBC BRASIL  O trimestre de maio a julho des...  2017-09-10  sobretudo   \n",
       "46  Ernesto Rafael Guevara de La Serna, o homem, m...  2017-09-10    colunas   \n",
       "59  A reforma política aprovada pelo Congresso dei...  2017-09-10    colunas   \n",
       "62  A batalha de jovens neurocientistas para reabi...  2017-09-10    colunas   \n",
       "63  Associações de empresas de limpeza urbana e re...  2017-09-10    colunas   \n",
       "\n",
       "     subcategoria                                               link  \\\n",
       "43      carreiras  http://www1.folha.uol.com.br/sobretudo/carreir...   \n",
       "46    clovisrossi  http://www1.folha.uol.com.br/colunas/clovisros...   \n",
       "59    joao-amoedo  http://www1.folha.uol.com.br/colunas/joao-amoe...   \n",
       "62   marceloleite  http://www1.folha.uol.com.br/colunas/marcelole...   \n",
       "63  mercadoaberto  http://www1.folha.uol.com.br/colunas/mercadoab...   \n",
       "\n",
       "                                         cleaned_text  \\\n",
       "43  da bbc brasil o trimestre de maio a julho dest...   \n",
       "46  ernesto rafael guevara de la serna  o homem  m...   \n",
       "59  a reforma política aprovada pelo congresso dei...   \n",
       "62  a batalha de jovens neurocientistas para reabi...   \n",
       "63  associações de empresas de limpeza urbana e re...   \n",
       "\n",
       "                                      cleaned_summary  \n",
       "43  _START_ da escola ao 1º emprego  como buscar u...  \n",
       "46  _START_ 50 anos depois da morte  o che é apena...  \n",
       "59        _START_ afinal  nosso voto tem preço  _END_  \n",
       "62  _START_ cientista dá psicodélico para minicére...  \n",
       "63  _START_ reestruturação da sabesp deverá ser le...  "
      ]
     },
     "execution_count": 392,
     "metadata": {},
     "output_type": "execute_result"
    }
   ],
   "source": [
    "df.iloc[0:5]"
   ]
  },
  {
   "cell_type": "code",
   "execution_count": 160,
   "metadata": {},
   "outputs": [
    {
     "name": "stdout",
     "output_type": "stream",
     "text": [
      "Review: da bbc brasil o trimestre de maio a julho deste ano foi encerrado com um índice de desemprego na casa de 12 8   o percentual assusta  mas é menor do que os 13 7  apurados no fim do período imediatamente anterior  os dados mostram um quadro preocupante  mas que sugere que o pior da crise pode já ter ficado para trás  só que a situação dos trabalhadores entre 18 e 24 anos é mais complicada do que a da média  segundo a mesma pesquisa do ibge  nada menos do que 28 8  dos jovens nessa faixa etária estavam desocupados ao fim do primeiro trimestre de 2017  esse percentual recorde equivale a 4 503 milhões de pessoas  os trabalhadores mais novos sempre sofrem mais com as crises e o desemprego decorrente  por um lado  eles representam custos menores  e menos produtividade perdida  para as empresas na hora da demissão  de outro  a menor experiência no mercado dificulta a busca por oportunidades  mas é fato também que os empregos que exigem menor qualificação costumam ser os primeiros a surgirem em maior número nas retomadas  dados do ministério do trabalho apontam que  das 1 24 milhão de contratações feitas no último mês de maio  quase metade foram de trabalhadores com até 29 anos  os maiores destaques na geração de empregos formais para os jovens foram os setores de serviços  com 21 8 mil vagas  a indústria da transformação  com 12 6 mil postos  e o comércio  com 11 8 mil  concentrar a procura por vagas nesses segmentos é uma boa ideia para os jovens que buscam uma recolocação ou mesmo entrar no mercado de trabalho  mas não só  portas de entrada programas de capacitação profissional são uma maneira de melhorar as próprias qualificações e  de quebra  conseguir o tão sonhado primeiro emprego  e muitos deles não apenas são gratuitos como fornecem vários tipos de auxílio  um exemplo é o instituto formare  que qualifica jovens carentes para o mercado de trabalho por meio de parcerias com empresas   o nosso jovem alvo é aquele que possui indicadores sociais desfavoráveis  mas também muita vontade de crescer  um jovem para quem ninguém estendeu a mão ainda   resume claudio anjos  diretor institucional do instituto formare  por indicadores sociais desfavoráveis entenda se  neste caso específico  uma renda familiar que não ultrapasse um salário mínimo por pessoa  cerca de 80  dos jovens assistidos pelo programa em um dos seus 170 cursos lançados até agora conseguem vagas formais de emprego nos primeiros três meses após a formatura  a maioria nas próprias empresas em que foram treinados  não é incomum que haja listas de mil jovens em busca das 20 vagas em média de um curso  o primeiro funil é uma prova básica de português e matemática  depois  entrevistas e dinâmicas de grupo em que o interesse  a força de vontade e a capacidade de colaboração dos jovens são medidos  passada essa fase  são os indicadores socioeconômicos  junto com a proximidade entre a residência do jovem e a empresa em questão  que vão decidir quem entra ou não   fazemos uma combinação entre quem mais quer e quem mais precisa   completa beth callia  coordenadora geral do instituto  o curso dura cerca de um ano e consiste em um primeiro núcleo básico e  depois  em disciplinas específicas à realidade de cada empresa  os alunos recebem uma bolsa auxílio de meio salário mínimo  uniforme e todos os benefícios que a empresa parceira concede aos seus funcionários  é comum  aliás  que estes jovens sejam os primeiros das suas famílias a contar com benefícios de qualquer ordem e  mais tarde  com um trabalho formal  a certificação é reconhecida pelo ministério da educação  gerente de treinamento e desenvolvimento do hotel grand hyatt de são paulo   parceiro do instituto formare e de outra iniciativa do mesmo gênero para jovens já maiores de idade e especializada na área de turismo  o youth career iniciative  yci     lígia shimizu é responsável por coordenar as ações de treinamento da equipe do hotel  de recepctionistas bilíngues a camareiras e cozinheiros  passando também pelo pessoal administrativo  no meio desta força de trabalho estão atualmente 12 alunos do formare e 12 do yci  fora 30 aprendizes e 30 estagiários  dos 70 líderes da empresa  aliás  41 têm menos de 35 anos   caso da própria lígia  que tem apenas 26 anos  durante os programas  os jovens costumam passar por todos os setores do hotel  áreas como a recepção  que exige o conhecimento do inglês  e os setores mais administrativos  onde a maioria dos funcionários possui nível superior   no entanto  não costumam abrigar os recém formados no programa  ao menos não de primeira  mas a história desses jovens é repleta de casos de superação  formada pela turma de 2011  natalia cordeiro não foi efetivada logo após o curso  mas entrou na equipe do hotel um pouco mais tarde como aprendiz   muitos dos 30 ex alunos do formare atualmente no hyatt foram contratados primeiro como aprendizes e estagiários  o que mostra também o quanto a persistência e a força de vontade são cruciais nessa fase da carreira  depois de promovida a estagiária e com significativa melhora no inglês  ela partiu para dubai  onde trabalhou em uma unidade local da rede  de volta a são paulo  foi contratada em abril deste ano como estagiária e  em julho  aos 22 anos  efetivada como assistente de recursos humanos  quando o céu é o limite um dos casos mais impressionantes nesse sentido é o do mineiro everton alves  de 35 anos  ex aluno da turma do formare de 1999  ele trabalha hoje como diretor de operações e vendas da sambatech  empresa especializada em armazenagem e distribuição de conteúdos digitais  auxiliar de pedreiro na adolescência  ele conseguiu o primeiro emprego cinco meses após se formar no projeto  trabalhando na indústria de autopeças  ele passou rapidamente do chão de fábrica para a área de qualidade graças ao estofo fornecido pelo formare e também por causa do curso técnico que ele decidiu fazer assim que entrou no mercado   a minha família inteira  que é bastante humilde  sempre trabalhou na indústria  nós viemos de contagem  que é uma zona industrial  e ali  na sambatech  uma start up  eu tinha 27 anos e era o mais velho da sala   recorda  com a intenção de retribuir aquilo que recebeu  everton atuou como educador voluntário do programa entre 2009 e 2012 nas disciplinas de informática e raciocínio lógico  uma vez  há cinco anos  foi parado na rua por um ex aluno que havia assistido a apenas uma aula sua  a última   ele me disse que aquela aula mudou a sua vida  e isso  pra mim  foi inesquecível  eu sei o que eles estão vivendo  parece meio intangível falar em ter sucesso na carreira  mas quando alguém como eu fala com eles é como se houvesse um espelho   diz  o apoio da família nos períodos mais difíceis é fundamental para o jovem que não possui um diploma mas deseja crescer na carreira   durante o período que eu cursava o formare  eu simplesmente não parava em casa  era curso o dia todo e escola de noite  muitos dos meus amigos naquela época passavam o dia à toa  no máximo tinham  cursado  o colégio  mas a minha família sempre me incentivou muito  fui o primeiro a cursar uma faculdade  e todos os meus irmãos  mais novos do que eu  acabaram por também fazer o mesmo mais tarde   conta  a importância do planejamento e das atividades simples  é preciso sacrificar uma parte das horas de lazer para dar esse upgrade nas qualificações  não existe outro jeito  quando você estiver finalmente empregado e com um salário um pouquinho maior  por que não fazer uma faculdade  depois de concluir a faculdade  por que não uma pós  ou aprender inglês  que é um diferencial e algo mais barato do que uma faculdade ou pós graduação    exemplifica fernando mantovani  diretor geral da consultoria robert half no brasil  seja começando a carreira com a ajuda de programas sociais de capacitação  seja com o auxílio de programas governamentais ou privados de ajuda a jovens candidatos a emprego  veja uma lista deles ao final da reportagem   seja por conta própria  é importante também focar no planejamento  questionamentos como para onde se quer ir  quais os próximos passos e quais são os seus pontos fracos devem ser feitos constantemente  para mantovani  é preciso também relativizar a importância do ensino superior no brasil de hoje  dada a quantidade de cursos de péssima qualidade   muitas vezes o profissional se frustra porque faz aquela faculdade com bastante esforço  mas não consegue o emprego que achou que ia conseguir  a falta de controle da qualidade do ensino cria uma indústria estelionatária  onde o aluno acha que aprende e a instituição lhe dá um pedaço de papel que custou algum dinheiro mas não vale grande coisa   opina  essa força de vontade na hora de aprimorar competências é fundamental e independe de grau de estudo ou condição social  para ele  vale muito mais a pena para o jovem que batalha pelo primeiro emprego investir em um bom curso técnico   ou mesmo cursar o ensino médio técnico   do que em um curso universitário de qualidade duvidosa  e as empresas em geral e os recrutadores em particular também precisam mudar os seus parâmetros e avaliar essa questão de forma menos automática e mais cautelosa   é preciso ter muito cuidado com essa pressão pelo curso superior  gestores podem acabar dando preferência a profissionais com um ensino superior ruim em detrimento de um profissional técnico bom   adverte  estudo recente do sistema nacional de aprendizagem industrial  senai  apontou que o brasil precisará qualificar 13 milhões de trabalhadores em ocupações industriais até 2020  em países como alemanha  áustria  suíça e japão  mais da metade de todos os estudantes cursam alguma formação técnica junto com o ensino regular  e mesmo no brasil não é possível associar o nível técnico a salários necessariamente mais baixos  ainda segundo o senai  um técnico em mineração recém formado  por exemplo  tem hoje no país rendimentos iniciais de r  7 mil   salário de fazer inveja à maioria dos universitários em início de carreira  educação e qualificação profissional à parte  é importante lembrar que muitas vezes aquela ajuda providencial pode estar logo ao lado  a relações públicas camilla assreuy  por exemplo  ainda trabalhava no setor varejista de moda quando se deparou com uma profissional que havia perdido o seu emprego como estoquista em uma loja e precisava se recolocar   ela não fazia a menor ideia de como ou por onde começar a procurar trabalho   recorda  com uma simples consulta a um aplicativo que integrava informações e serviços para os lojistas e funcionários do shopping em questão  e que a moça desconhecia  camila encontrou não uma  mas dez vagas de estoquista para a profissional  ou seja  ninguém deve ter receio  vergonha ou preguiça de perguntar  pesquisar e pedir ajuda  e não só quando se trata do primeiro emprego  programas de qualificação gratuitos alguns também oferecem benefícios ou feiras de oportunidades instituto formare  para jovens entre 16 e 18 anos  \n",
      "Summary: da escola ao 1º emprego  como buscar um caminho profissional sem ter  ao menos ainda  um diploma universitário\n",
      "\n",
      "\n",
      "Review: ernesto rafael guevara de la serna  o homem  morreu  assassinado  na bolívia há exatos 50 anos neste 9 de outubro  mas o  che   o revolucionário  morrera antes na cuba em que estão enterrados seus restos  o  che  perdeu internamente a batalha de ideias pelo modelo econômico que deveria ser implantado na ilha  prevaleceu o modelo soviético  imposto pela necessidade de preservar o financiamento que a união soviética concedia a cuba  escreve  por exemplo  para  el país  o historiador cubano rafael rojas   quando fidel castro leu a carta de despedida do che  no ato de constituição do comitê central do partido comunista de cuba  em outubro de 1965  ficou evidente que o guevarismo não teria futuro na ilha  as naves haviam sido queimadas e o congo e a bolívia foram tentativas de provar que outra revolução  como a cubana  podia triunfar em qualquer nação do terceiro mundo   na minha primeira visita a cuba  em 1977  quando a ilha ainda era proibida para brasileiros  tivera idêntica sensação de que o  che  já não cabia por lá  escrevi  para o  estadão   onde então trabalhava  um texto em que relatava a introdução completa do modelo soviético  a que o che se opunha  e dizia em seguida   não é de estranhar  portanto  que a figura de che guevara seja alvo  hoje  de uma curiosa dicotomia  de um lado  exalta se e idolatra se a o che revolucionário internacional  o homem que lutou no congo e na bolívia  o guerrilheiro infatigável  de outro  atira se ao limbo o che teórico  o defensor do homem novo  o idealista   acrescentava no texto de 40 anos atrás   sintomaticamente  até as revistas que serviram de veículo para a propagação das teses guevaristas –cuba socialista  nuestra indústria e comércio exterior– foram paulatinamente extintas   isolado em cuba  o che acabou morrendo na bolívia  igualmente isolado  o coronel boliviano gary prado  que comandou as tropas que capturaram guevara no dia 8 de outubro de 1967  contou em entrevista para o jornal  el deber  que a guerrilha que o che liderava estava reduzida a 17 homens quando o batalhão manchego  de prado  entrou na zona de operações  o revolucionário foi traído  cruel ironia  exatamente pelos camponeses que pretendia libertar de suas infames condições de vida  sempre segundo o depoimento do coronel gary prado   recebemos informação de camponeses que haviam visto guerrilheiros na quebrada de el churo  montei a operação  cercamos a quebrada e se produziu o combate   pouco depois  prossegue o relato  o coronel encontrou com dois dos guerrilheiros restantes e um deles lhe disse   não me matem  sou o che guevara  para vocês valho mais vivo que morto   foi assassinado no dia seguinte  o coronel boliviano faz um julgamento impiedoso do che   dava pena  era o fracasso de toda a sua vida  de sua série de fracassos porque não havia tido muito êxito em nenhuma das tarefas que havia empreendido em toda a sua vida   de fato  a revolução que ajudara a triunfar em cuba deslizou mais e mais para uma burocracia tão sufocante que até seus líderes tratam  agora  de desconstruir  penosa e lentamente  sem abdicar da ditadura que o che também apoiara  o homem novo  que ele pretendia construir na áfrica e na américa latina  não nasceu  ao contrário  está cada vez mais apegado a valores materiais  quando seu comandante  fidel castro  dizia que  o homem não vive somente de dinheiro  os trabalhadores devem aprender que seu trabalho é uma contribuição de que o povo inteiro e o estado tiram proveito   entrevista de fidel ao jornalista americano herbert mathews  em fins de 1967   nem os trabalhadores nem os camponeses aprenderam  não é à toa  pois  que  50 anos depois de sua morte  o che seja apenas um objeto do consumo que ele desprezava  estampado em camisetas \n",
      "Summary: 50 anos depois da morte  o che é apenas uma foto na camiseta\n",
      "\n",
      "\n"
     ]
    }
   ],
   "source": [
    "for i in range(2):\n",
    "    print(\"Review:\",df['cleaned_text'].iloc[i])\n",
    "    print(\"Summary:\",df['cleaned_summary'].iloc[i])\n",
    "    print(\"\\n\")"
   ]
  },
  {
   "cell_type": "code",
   "execution_count": 161,
   "metadata": {},
   "outputs": [
    {
     "data": {
      "image/png": "[encoded data removed]",
      "text/plain": [
       "<Figure size 432x288 with 2 Axes>"
      ]
     },
     "metadata": {
      "needs_background": "light"
     },
     "output_type": "display_data"
    }
   ],
   "source": [
    "import matplotlib.pyplot as plt\n",
    "text_word_count = []\n",
    "summary_word_count = []\n",
    "\n",
    "# populate the lists with sentence lengths\n",
    "for i in df['cleaned_text']:\n",
    "      text_word_count.append(len(i.split()))\n",
    "\n",
    "for i in df['cleaned_summary']:\n",
    "      summary_word_count.append(len(i.split()))\n",
    "\n",
    "df['cleaned_summary'] = df['cleaned_summary'].apply(lambda x : '_START_ '+ x + ' _END_')\n",
    "\n",
    "length_df = pd.DataFrame({'text':text_word_count, 'summary':summary_word_count})\n",
    "length_df.hist(bins = 30)\n",
    "plt.show()"
   ]
  },
  {
   "cell_type": "code",
   "execution_count": null,
   "metadata": {},
   "outputs": [],
   "source": []
  },
  {
   "cell_type": "code",
   "execution_count": 163,
   "metadata": {},
   "outputs": [],
   "source": [
    "from sklearn.model_selection import train_test_split\n",
    "x_tr,x_val,y_tr,y_val=train_test_split(df['cleaned_text'],df['cleaned_summary'],test_size=0.2,random_state=0,shuffle=True) \n"
   ]
  },
  {
   "cell_type": "code",
   "execution_count": 164,
   "metadata": {},
   "outputs": [],
   "source": [
    "#prepare a tokenizer for reviews on training data\n",
    "x_tokenizer = Tokenizer()\n",
    "x_tokenizer.fit_on_texts(list(x_tr))\n",
    "\n",
    "#convert text sequences into integer sequences\n",
    "x_tr    =   x_tokenizer.texts_to_sequences(x_tr) \n",
    "x_val   =   x_tokenizer.texts_to_sequences(x_val)\n",
    "\n",
    "#padding zero upto maximum length\n",
    "x_tr    =   pad_sequences(x_tr,  maxlen=max_len_text, padding='post') \n",
    "x_val   =   pad_sequences(x_val, maxlen=max_len_text, padding='post')\n",
    "\n",
    "x_voc_size   =  len(x_tokenizer.word_index) +1"
   ]
  },
  {
   "cell_type": "code",
   "execution_count": 165,
   "metadata": {},
   "outputs": [],
   "source": [
    "#preparing a tokenizer for summary on training data \n",
    "y_tokenizer = Tokenizer()\n",
    "y_tokenizer.fit_on_texts(list(y_tr))\n",
    "\n",
    "#convert summary sequences into integer sequences\n",
    "y_tr    =   y_tokenizer.texts_to_sequences(y_tr) \n",
    "y_val   =   y_tokenizer.texts_to_sequences(y_val) \n",
    "\n",
    "#padding zero upto maximum length\n",
    "y_tr    =   pad_sequences(y_tr, maxlen=max_len_summary, padding='post')\n",
    "y_val   =   pad_sequences(y_val, maxlen=max_len_summary, padding='post')\n",
    "\n",
    "y_voc_size  =   len(y_tokenizer.word_index) +1"
   ]
  },
  {
   "cell_type": "code",
   "execution_count": 166,
   "metadata": {},
   "outputs": [
    {
     "data": {
      "text/plain": [
       "((3285, 200), (3285, 20))"
      ]
     },
     "execution_count": 166,
     "metadata": {},
     "output_type": "execute_result"
    }
   ],
   "source": [
    "x_tr.shape,y_tr.shape"
   ]
  },
  {
   "cell_type": "code",
   "execution_count": 167,
   "metadata": {},
   "outputs": [
    {
     "data": {
      "text/plain": [
       "((822, 200), (822, 20))"
      ]
     },
     "execution_count": 167,
     "metadata": {},
     "output_type": "execute_result"
    }
   ],
   "source": [
    "x_val.shape, y_val.shape"
   ]
  },
  {
   "cell_type": "code",
   "execution_count": 168,
   "metadata": {},
   "outputs": [
    {
     "data": {
      "text/plain": [
       "(66740, 7721)"
      ]
     },
     "execution_count": 168,
     "metadata": {},
     "output_type": "execute_result"
    }
   ],
   "source": [
    "x_voc_size, y_voc_size"
   ]
  },
  {
   "cell_type": "code",
   "execution_count": 169,
   "metadata": {},
   "outputs": [],
   "source": [
    "import tensorflow as tf\n",
    "import os\n",
    "from tensorflow.python.keras.layers import Layer\n",
    "from tensorflow.python.keras import backend as K\n",
    "\n",
    "\n",
    "class AttentionLayer(Layer):\n",
    "    \"\"\"\n",
    "    This class implements Bahdanau attention (https://arxiv.org/pdf/1409.0473.pdf).\n",
    "    There are three sets of weights introduced W_a, U_a, and V_a\n",
    "     \"\"\"\n",
    "\n",
    "    def __init__(self, **kwargs):\n",
    "        super(AttentionLayer, self).__init__(**kwargs)\n",
    "\n",
    "    def build(self, input_shape):\n",
    "        assert isinstance(input_shape, list)\n",
    "        # Create a trainable weight variable for this layer.\n",
    "\n",
    "        self.W_a = self.add_weight(name='W_a',\n",
    "                                   shape=tf.TensorShape((input_shape[0][2], input_shape[0][2])),\n",
    "                                   initializer='uniform',\n",
    "                                   trainable=True)\n",
    "        self.U_a = self.add_weight(name='U_a',\n",
    "                                   shape=tf.TensorShape((input_shape[1][2], input_shape[0][2])),\n",
    "                                   initializer='uniform',\n",
    "                                   trainable=True)\n",
    "        self.V_a = self.add_weight(name='V_a',\n",
    "                                   shape=tf.TensorShape((input_shape[0][2], 1)),\n",
    "                                   initializer='uniform',\n",
    "                                   trainable=True)\n",
    "\n",
    "        super(AttentionLayer, self).build(input_shape)  # Be sure to call this at the end\n",
    "\n",
    "    def call(self, inputs, verbose=False):\n",
    "        \"\"\"\n",
    "        inputs: [encoder_output_sequence, decoder_output_sequence]\n",
    "        \"\"\"\n",
    "        assert type(inputs) == list\n",
    "        encoder_out_seq, decoder_out_seq = inputs\n",
    "        if verbose:\n",
    "            print('encoder_out_seq>', encoder_out_seq.shape)\n",
    "            print('decoder_out_seq>', decoder_out_seq.shape)\n",
    "\n",
    "        def energy_step(inputs, states):\n",
    "            \"\"\" Step function for computing energy for a single decoder state\n",
    "            inputs: (batchsize * 1 * de_in_dim)\n",
    "            states: (batchsize * 1 * de_latent_dim)\n",
    "            \"\"\"\n",
    "\n",
    "            assert_msg = \"States must be an iterable. Got {} of type {}\".format(states, type(states))\n",
    "            assert isinstance(states, list) or isinstance(states, tuple), assert_msg\n",
    "\n",
    "            \"\"\" Some parameters required for shaping tensors\"\"\"\n",
    "            en_seq_len, en_hidden = encoder_out_seq.shape[1], encoder_out_seq.shape[2]\n",
    "            de_hidden = inputs.shape[-1]\n",
    "\n",
    "            \"\"\" Computing S.Wa where S=[s0, s1, ..., si]\"\"\"\n",
    "            # <= batch size * en_seq_len * latent_dim\n",
    "            W_a_dot_s = K.dot(encoder_out_seq, self.W_a)\n",
    "\n",
    "            \"\"\" Computing hj.Ua \"\"\"\n",
    "            U_a_dot_h = K.expand_dims(K.dot(inputs, self.U_a), 1)  # <= batch_size, 1, latent_dim\n",
    "            if verbose:\n",
    "                print('Ua.h>', U_a_dot_h.shape)\n",
    "\n",
    "            \"\"\" tanh(S.Wa + hj.Ua) \"\"\"\n",
    "            # <= batch_size*en_seq_len, latent_dim\n",
    "            Ws_plus_Uh = K.tanh(W_a_dot_s + U_a_dot_h)\n",
    "            if verbose:\n",
    "                print('Ws+Uh>', Ws_plus_Uh.shape)\n",
    "\n",
    "            \"\"\" softmax(va.tanh(S.Wa + hj.Ua)) \"\"\"\n",
    "            # <= batch_size, en_seq_len\n",
    "            e_i = K.squeeze(K.dot(Ws_plus_Uh, self.V_a), axis=-1)\n",
    "            # <= batch_size, en_seq_len\n",
    "            e_i = K.softmax(e_i)\n",
    "\n",
    "            if verbose:\n",
    "                print('ei>', e_i.shape)\n",
    "\n",
    "            return e_i, [e_i]\n",
    "\n",
    "        def context_step(inputs, states):\n",
    "            \"\"\" Step function for computing ci using ei \"\"\"\n",
    "\n",
    "            assert_msg = \"States must be an iterable. Got {} of type {}\".format(states, type(states))\n",
    "            assert isinstance(states, list) or isinstance(states, tuple), assert_msg\n",
    "\n",
    "            # <= batch_size, hidden_size\n",
    "            c_i = K.sum(encoder_out_seq * K.expand_dims(inputs, -1), axis=1)\n",
    "            if verbose:\n",
    "                print('ci>', c_i.shape)\n",
    "            return c_i, [c_i]\n",
    "\n",
    "        fake_state_c = K.sum(encoder_out_seq, axis=1)\n",
    "        fake_state_e = K.sum(encoder_out_seq, axis=2)  # <= (batch_size, enc_seq_len, latent_dim\n",
    "\n",
    "        \"\"\" Computing energy outputs \"\"\"\n",
    "        # e_outputs => (batch_size, de_seq_len, en_seq_len)\n",
    "        last_out, e_outputs, _ = K.rnn(\n",
    "            energy_step, decoder_out_seq, [fake_state_e],\n",
    "        )\n",
    "\n",
    "        \"\"\" Computing context vectors \"\"\"\n",
    "        last_out, c_outputs, _ = K.rnn(\n",
    "            context_step, e_outputs, [fake_state_c],\n",
    "        )\n",
    "\n",
    "        return c_outputs, e_outputs\n",
    "\n",
    "    def compute_output_shape(self, input_shape):\n",
    "        \"\"\" Outputs produced by the layer \"\"\"\n",
    "        return [\n",
    "            tf.TensorShape((input_shape[1][0], input_shape[1][1], input_shape[1][2])),\n",
    "            tf.TensorShape((input_shape[1][0], input_shape[1][1], input_shape[0][1]))\n",
    "        ]"
   ]
  },
  {
   "cell_type": "code",
   "execution_count": 170,
   "metadata": {},
   "outputs": [],
   "source": [
    "from keras import backend as K \n",
    "K.clear_session() \n",
    "latent_dim = 500 \n",
    "\n",
    "# Encoder \n",
    "encoder_inputs = Input(shape=(max_len_text,)) \n",
    "enc_emb = Embedding(x_voc_size, latent_dim,trainable=True)(encoder_inputs) \n",
    "\n",
    "#LSTM 1 \n",
    "encoder_lstm1 = LSTM(latent_dim,return_sequences=True,return_state=True) \n",
    "encoder_output1, state_h1, state_c1 = encoder_lstm1(enc_emb) \n",
    "\n",
    "#LSTM 2 \n",
    "encoder_lstm2 = LSTM(latent_dim,return_sequences=True,return_state=True) \n",
    "encoder_output2, state_h2, state_c2 = encoder_lstm2(encoder_output1) \n",
    "\n",
    "#LSTM 3 \n",
    "encoder_lstm3=LSTM(latent_dim, return_state=True, return_sequences=True) \n",
    "encoder_outputs, state_h, state_c= encoder_lstm3(encoder_output2) \n",
    "\n",
    "# Set up the decoder. \n",
    "decoder_inputs = Input(shape=(None,)) \n",
    "dec_emb_layer = Embedding(y_voc_size, latent_dim,trainable=True) \n",
    "dec_emb = dec_emb_layer(decoder_inputs) \n",
    "\n",
    "#LSTM using encoder_states as initial state\n",
    "decoder_lstm = LSTM(latent_dim, return_sequences=True, return_state=True) \n",
    "decoder_outputs,decoder_fwd_state, decoder_back_state = decoder_lstm(dec_emb,initial_state=[state_h, state_c]) \n"
   ]
  },
  {
   "cell_type": "code",
   "execution_count": 171,
   "metadata": {},
   "outputs": [
    {
     "name": "stderr",
     "output_type": "stream",
     "text": [
      "W1111 15:14:33.352613 11504 ag_logging.py:145] Entity <function rnn at 0x000001BCFB071048> could not be transformed and will be executed as-is. Please report this to the AutgoGraph team. When filing the bug, set the verbosity to 10 (on Linux, `export AUTOGRAPH_VERBOSITY=10`) and attach the full output. Cause: The global keyword is not yet supported.\n",
      "W1111 15:14:33.464610 11504 ag_logging.py:145] Entity <function rnn at 0x000001BCFB071048> could not be transformed and will be executed as-is. Please report this to the AutgoGraph team. When filing the bug, set the verbosity to 10 (on Linux, `export AUTOGRAPH_VERBOSITY=10`) and attach the full output. Cause: The global keyword is not yet supported.\n"
     ]
    },
    {
     "name": "stdout",
     "output_type": "stream",
     "text": [
      "WARNING: Entity <function rnn at 0x000001BCFB071048> could not be transformed and will be executed as-is. Please report this to the AutgoGraph team. When filing the bug, set the verbosity to 10 (on Linux, `export AUTOGRAPH_VERBOSITY=10`) and attach the full output. Cause: The global keyword is not yet supported.\n",
      "WARNING: Entity <function rnn at 0x000001BCFB071048> could not be transformed and will be executed as-is. Please report this to the AutgoGraph team. When filing the bug, set the verbosity to 10 (on Linux, `export AUTOGRAPH_VERBOSITY=10`) and attach the full output. Cause: The global keyword is not yet supported.\n"
     ]
    }
   ],
   "source": [
    "#Attention Layer\n",
    "attn_layer = AttentionLayer(name='attention_weight') \n",
    "attn_out, attn_states = attn_layer([encoder_outputs, decoder_outputs]) \n",
    "\n",
    "# Concat attention output and decoder LSTM output \n",
    "decoder_concat_input = Concatenate(axis=-1, name='concat_layer')([decoder_outputs, attn_out])\n",
    "\n",
    "#Dense layer\n",
    "decoder_dense = TimeDistributed(Dense(y_voc_size, activation='softmax')) \n",
    "decoder_outputs = decoder_dense(decoder_concat_input) "
   ]
  },
  {
   "cell_type": "code",
   "execution_count": 172,
   "metadata": {},
   "outputs": [
    {
     "name": "stdout",
     "output_type": "stream",
     "text": [
      "Model: \"model\"\n",
      "__________________________________________________________________________________________________\n",
      "Layer (type)                    Output Shape         Param #     Connected to                     \n",
      "==================================================================================================\n",
      "input_1 (InputLayer)            [(None, 200)]        0                                            \n",
      "__________________________________________________________________________________________________\n",
      "embedding (Embedding)           (None, 200, 500)     33370000    input_1[0][0]                    \n",
      "__________________________________________________________________________________________________\n",
      "lstm (LSTM)                     [(None, 200, 500), ( 2002000     embedding[0][0]                  \n",
      "__________________________________________________________________________________________________\n",
      "input_2 (InputLayer)            [(None, None)]       0                                            \n",
      "__________________________________________________________________________________________________\n",
      "lstm_1 (LSTM)                   [(None, 200, 500), ( 2002000     lstm[0][0]                       \n",
      "__________________________________________________________________________________________________\n",
      "embedding_1 (Embedding)         (None, None, 500)    3860500     input_2[0][0]                    \n",
      "__________________________________________________________________________________________________\n",
      "lstm_2 (LSTM)                   [(None, 200, 500), ( 2002000     lstm_1[0][0]                     \n",
      "__________________________________________________________________________________________________\n",
      "lstm_3 (LSTM)                   [(None, None, 500),  2002000     embedding_1[0][0]                \n",
      "                                                                 lstm_2[0][1]                     \n",
      "                                                                 lstm_2[0][2]                     \n",
      "__________________________________________________________________________________________________\n",
      "attention_weight (AttentionLaye ((None, None, 500),  500500      lstm_2[0][0]                     \n",
      "                                                                 lstm_3[0][0]                     \n",
      "__________________________________________________________________________________________________\n",
      "concat_layer (Concatenate)      (None, None, 1000)   0           lstm_3[0][0]                     \n",
      "                                                                 attention_weight[0][0]           \n",
      "__________________________________________________________________________________________________\n",
      "time_distributed (TimeDistribut (None, None, 7721)   7728721     concat_layer[0][0]               \n",
      "==================================================================================================\n",
      "Total params: 53,467,721\n",
      "Trainable params: 53,467,721\n",
      "Non-trainable params: 0\n",
      "__________________________________________________________________________________________________\n"
     ]
    }
   ],
   "source": [
    "\n",
    "\n",
    "# Define the model\n",
    "model = Model([encoder_inputs, decoder_inputs], decoder_outputs) \n",
    "model.summary()"
   ]
  },
  {
   "cell_type": "code",
   "execution_count": 173,
   "metadata": {},
   "outputs": [],
   "source": [
    "model.compile(optimizer='rmsprop', loss='sparse_categorical_crossentropy')\n"
   ]
  },
  {
   "cell_type": "code",
   "execution_count": 174,
   "metadata": {},
   "outputs": [],
   "source": [
    "if os.path.isfile(checkpoint):\n",
    "    model.load_weights(checkpoint)"
   ]
  },
  {
   "cell_type": "code",
   "execution_count": 175,
   "metadata": {},
   "outputs": [],
   "source": [
    "es = EarlyStopping(monitor='val_loss', mode='min', verbose=1, patience=10, min_delta=0.0001)\n",
    "mc = ModelCheckpoint(checkpoint, monitor='loss', verbose=1, save_best_only=True, mode='min')"
   ]
  },
  {
   "cell_type": "code",
   "execution_count": 176,
   "metadata": {
    "scrolled": true
   },
   "outputs": [
    {
     "name": "stdout",
     "output_type": "stream",
     "text": [
      "Train on 3285 samples, validate on 822 samples\n",
      "Epoch 1/50\n",
      "3280/3285 [============================>.] - ETA: 1s - loss: 3.7627\n",
      "Epoch 00001: loss improved from inf to 3.76129, saving model to weights-improvement-01-3.7613-bigger.hdf5\n",
      "3285/3285 [==============================] - 968s 295ms/sample - loss: 3.7613 - val_loss: 2.8325\n",
      "Epoch 2/50\n",
      "3280/3285 [============================>.] - ETA: 1s - loss: 3.4879\n",
      "Epoch 00002: loss improved from 3.76129 to 3.48664, saving model to weights-improvement-02-3.4866-bigger.hdf5\n",
      "3285/3285 [==============================] - 945s 288ms/sample - loss: 3.4866 - val_loss: 2.8479\n",
      "Epoch 3/50\n",
      "3280/3285 [============================>.] - ETA: 1s - loss: 3.3735\n",
      "Epoch 00003: loss improved from 3.48664 to 3.37185, saving model to weights-improvement-03-3.3719-bigger.hdf5\n",
      "3285/3285 [==============================] - 951s 289ms/sample - loss: 3.3719 - val_loss: 2.8019\n",
      "Epoch 4/50\n",
      "3280/3285 [============================>.] - ETA: 1s - loss: 3.2745\n",
      "Epoch 00004: loss improved from 3.37185 to 3.27400, saving model to weights-improvement-04-3.2740-bigger.hdf5\n",
      "3285/3285 [==============================] - 986s 300ms/sample - loss: 3.2740 - val_loss: 2.8156\n",
      "Epoch 5/50\n",
      "3280/3285 [============================>.] - ETA: 1s - loss: 3.1779\n",
      "Epoch 00005: loss improved from 3.27400 to 3.17742, saving model to weights-improvement-05-3.1774-bigger.hdf5\n",
      "3285/3285 [==============================] - 987s 301ms/sample - loss: 3.1774 - val_loss: 2.8172\n",
      "Epoch 6/50\n",
      "3280/3285 [============================>.] - ETA: 1s - loss: 3.0702\n",
      "Epoch 00006: loss improved from 3.17742 to 3.07048, saving model to weights-improvement-06-3.0705-bigger.hdf5\n",
      "3285/3285 [==============================] - 980s 298ms/sample - loss: 3.0705 - val_loss: 2.8411\n",
      "Epoch 7/50\n",
      "3280/3285 [============================>.] - ETA: 1s - loss: 2.9434\n",
      "Epoch 00007: loss improved from 3.07048 to 2.94500, saving model to weights-improvement-07-2.9450-bigger.hdf5\n",
      "3285/3285 [==============================] - 980s 298ms/sample - loss: 2.9450 - val_loss: 2.8892\n",
      "Epoch 8/50\n",
      "3280/3285 [============================>.] - ETA: 1s - loss: 2.8249\n",
      "Epoch 00008: loss improved from 2.94500 to 2.82557, saving model to weights-improvement-08-2.8256-bigger.hdf5\n",
      "3285/3285 [==============================] - 931s 283ms/sample - loss: 2.8256 - val_loss: 2.9554\n",
      "Epoch 9/50\n",
      "3280/3285 [============================>.] - ETA: 1s - loss: 2.7117\n",
      "Epoch 00009: loss improved from 2.82557 to 2.71261, saving model to weights-improvement-09-2.7126-bigger.hdf5\n",
      "3285/3285 [==============================] - 911s 277ms/sample - loss: 2.7126 - val_loss: 2.9672\n",
      "Epoch 10/50\n",
      "3280/3285 [============================>.] - ETA: 1s - loss: 2.5977\n",
      "Epoch 00010: loss improved from 2.71261 to 2.59785, saving model to weights-improvement-10-2.5979-bigger.hdf5\n",
      "3285/3285 [==============================] - 910s 277ms/sample - loss: 2.5979 - val_loss: 3.0233\n",
      "Epoch 11/50\n",
      "3280/3285 [============================>.] - ETA: 1s - loss: 2.4782\n",
      "Epoch 00011: loss improved from 2.59785 to 2.47874, saving model to weights-improvement-11-2.4787-bigger.hdf5\n",
      "3285/3285 [==============================] - 948s 289ms/sample - loss: 2.4787 - val_loss: 3.0447\n",
      "Epoch 12/50\n",
      "3280/3285 [============================>.] - ETA: 1s - loss: 2.3743\n",
      "Epoch 00012: loss improved from 2.47874 to 2.37404, saving model to weights-improvement-12-2.3740-bigger.hdf5\n",
      "3285/3285 [==============================] - 980s 298ms/sample - loss: 2.3740 - val_loss: 3.1099\n",
      "Epoch 13/50\n",
      "3280/3285 [============================>.] - ETA: 1s - loss: 2.2811\n",
      "Epoch 00013: loss improved from 2.37404 to 2.28148, saving model to weights-improvement-13-2.2815-bigger.hdf5\n",
      "3285/3285 [==============================] - 971s 296ms/sample - loss: 2.2815 - val_loss: 3.1514\n",
      "Epoch 00013: early stopping\n"
     ]
    }
   ],
   "source": [
    "history=model.fit(\n",
    "    [x_tr,y_tr[:,:-1]], \n",
    "    y_tr.reshape(y_tr.shape[0],y_tr.shape[1], 1)[:,1:] ,\n",
    "    epochs=epochs,\n",
    "    callbacks=[es, mc],\n",
    "    batch_size=batchSize,\n",
    "    validation_data=([x_val,y_val[:,:-1]], y_val.reshape(y_val.shape[0],y_val.shape[1], 1)[:,1:])\n",
    ")"
   ]
  },
  {
   "cell_type": "code",
   "execution_count": 177,
   "metadata": {},
   "outputs": [
    {
     "data": {
      "image/png": "[encoded data removed]",
      "text/plain": [
       "<Figure size 432x288 with 1 Axes>"
      ]
     },
     "metadata": {
      "needs_background": "light"
     },
     "output_type": "display_data"
    }
   ],
   "source": [
    "plt.plot(history.history['loss'], label='train') \n",
    "plt.plot(history.history['val_loss'], label='test') \n",
    "plt.legend() \n",
    "plt.show()"
   ]
  },
  {
   "cell_type": "code",
   "execution_count": 178,
   "metadata": {},
   "outputs": [],
   "source": [
    "reverse_target_word_index=y_tokenizer.index_word \n",
    "reverse_source_word_index=x_tokenizer.index_word \n",
    "target_word_index=y_tokenizer.word_index"
   ]
  },
  {
   "cell_type": "code",
   "execution_count": null,
   "metadata": {},
   "outputs": [],
   "source": []
  },
  {
   "cell_type": "code",
   "execution_count": 179,
   "metadata": {},
   "outputs": [
    {
     "name": "stderr",
     "output_type": "stream",
     "text": [
      "W1111 18:42:23.314169 11504 ag_logging.py:145] Entity <function rnn at 0x000001BCFB071048> could not be transformed and will be executed as-is. Please report this to the AutgoGraph team. When filing the bug, set the verbosity to 10 (on Linux, `export AUTOGRAPH_VERBOSITY=10`) and attach the full output. Cause: The global keyword is not yet supported.\n"
     ]
    },
    {
     "name": "stdout",
     "output_type": "stream",
     "text": [
      "WARNING: Entity <function rnn at 0x000001BCFB071048> could not be transformed and will be executed as-is. Please report this to the AutgoGraph team. When filing the bug, set the verbosity to 10 (on Linux, `export AUTOGRAPH_VERBOSITY=10`) and attach the full output. Cause: The global keyword is not yet supported.\n"
     ]
    },
    {
     "name": "stderr",
     "output_type": "stream",
     "text": [
      "W1111 18:42:23.790719 11504 ag_logging.py:145] Entity <function rnn at 0x000001BCFB071048> could not be transformed and will be executed as-is. Please report this to the AutgoGraph team. When filing the bug, set the verbosity to 10 (on Linux, `export AUTOGRAPH_VERBOSITY=10`) and attach the full output. Cause: The global keyword is not yet supported.\n"
     ]
    },
    {
     "name": "stdout",
     "output_type": "stream",
     "text": [
      "WARNING: Entity <function rnn at 0x000001BCFB071048> could not be transformed and will be executed as-is. Please report this to the AutgoGraph team. When filing the bug, set the verbosity to 10 (on Linux, `export AUTOGRAPH_VERBOSITY=10`) and attach the full output. Cause: The global keyword is not yet supported.\n"
     ]
    }
   ],
   "source": [
    "# encoder inference\n",
    "encoder_model = Model(inputs=encoder_inputs,outputs=[encoder_outputs, state_h, state_c])\n",
    "\n",
    "# decoder inference\n",
    "# Below tensors will hold the states of the previous time step\n",
    "decoder_state_input_h = Input(shape=(latent_dim,))\n",
    "decoder_state_input_c = Input(shape=(latent_dim,))\n",
    "decoder_hidden_state_input = Input(shape=(max_len_text,latent_dim))\n",
    "\n",
    "# Get the embeddings of the decoder sequence\n",
    "dec_emb2= dec_emb_layer(decoder_inputs)\n",
    "\n",
    "# To predict the next word in the sequence, set the initial states to the states from the previous time step\n",
    "decoder_outputs2, state_h2, state_c2 = decoder_lstm(dec_emb2, initial_state=[decoder_state_input_h, decoder_state_input_c])\n",
    "\n",
    "#attention inference\n",
    "attn_out_inf, attn_states_inf = attn_layer([decoder_hidden_state_input, decoder_outputs2])\n",
    "decoder_inf_concat = Concatenate(axis=-1, name='concat')([decoder_outputs2, attn_out_inf])\n",
    "\n",
    "# A dense softmax layer to generate prob dist. over the target vocabulary\n",
    "decoder_outputs2 = decoder_dense(decoder_inf_concat)\n",
    "\n",
    "# Final decoder model\n",
    "decoder_model = Model(\n",
    "[decoder_inputs] + [decoder_hidden_state_input,decoder_state_input_h, decoder_state_input_c],\n",
    "[decoder_outputs2] + [state_h2, state_c2])"
   ]
  },
  {
   "cell_type": "code",
   "execution_count": 180,
   "metadata": {},
   "outputs": [],
   "source": [
    "def decode_sequence(input_seq):\n",
    "    # Encode the input as state vectors.\n",
    "    e_out, e_h, e_c = encoder_model.predict(input_seq)\n",
    "\n",
    "    # Generate empty target sequence of length 1.\n",
    "    target_seq = np.zeros((1,1))\n",
    "\n",
    "    # Chose the 'start' word as the first word of the target sequence\n",
    "    target_seq[0, 0] = target_word_index['start']\n",
    "\n",
    "    stop_condition = False\n",
    "    decoded_sentence = ''\n",
    "    while not stop_condition:\n",
    "        output_tokens, h, c = decoder_model.predict([target_seq] + [e_out, e_h, e_c])\n",
    "\n",
    "        # Sample a token\n",
    "        sampled_token_index = np.argmax(output_tokens[0, -1, :])\n",
    "        #print(sampled_token_index)\n",
    "        if sampled_token_index == 0:\n",
    "            return decoded_sentence\n",
    "            \n",
    "        sampled_token = reverse_target_word_index[sampled_token_index]\n",
    "        if(sampled_token!='end'):\n",
    "            decoded_sentence += ' '+sampled_token\n",
    "\n",
    "            # Exit condition: either hit max length or find stop word.\n",
    "            if (sampled_token == 'end' or len(decoded_sentence.split()) >= (max_len_summary-1)):\n",
    "                stop_condition = True\n",
    "\n",
    "        # Update the target sequence (of length 1).\n",
    "        target_seq = np.zeros((1,1))\n",
    "        target_seq[0, 0] = sampled_token_index\n",
    "\n",
    "        # Update internal states\n",
    "        e_h, e_c = h, c\n",
    "\n",
    "    return decoded_sentence"
   ]
  },
  {
   "cell_type": "code",
   "execution_count": 181,
   "metadata": {},
   "outputs": [],
   "source": [
    "def seq2summary(input_seq):\n",
    "    newString=''\n",
    "    #print(target_word_index)\n",
    "    for i in input_seq:\n",
    "      if((i!=0 and i!=target_word_index['start']) and i!=target_word_index['end']):\n",
    "        newString=newString+reverse_target_word_index[i]+' '\n",
    "    return newString"
   ]
  },
  {
   "cell_type": "code",
   "execution_count": 182,
   "metadata": {},
   "outputs": [],
   "source": [
    "\n",
    "def seq2text(input_seq):\n",
    "    newString=''\n",
    "    for i in input_seq:\n",
    "      if(i!=0):\n",
    "        newString=newString+reverse_source_word_index[i]+' '\n",
    "    return newString"
   ]
  },
  {
   "cell_type": "code",
   "execution_count": 380,
   "metadata": {
    "scrolled": true
   },
   "outputs": [
    {
     "name": "stdout",
     "output_type": "stream",
     "text": [
      "Review: 1982 o milan foi parar na série b por envolvimento de seus jogadores e dirigentes no esquema das apostas na loteria esportiva em 2005 até o goleiro gianluigi buffon admitiu que participava de apostas num caso paralelo de manipulação escalas de arbitragem a juventus foi rebaixada não é só no brasil não é só no futebol não é só com bicheiros há apostas em jogos de tênis da nfl da nba do futebol inglês na itália no rio em são paulo com carimbo oficial dos governos com anúncio de sites em emissoras de televisão a cbf acaba de contratar uma empresa especializada em apostas ilegais para tentar vigiar e evitar que se repitam escândalos como os do passado todo mundo é inocente até que prove o contrário e se houver erro de algum árbitro um frango de um goleiro gol perdido por atacante não pense que foi porque quis errar eu vou lhe avisar goleiro não pode falhar mas muita gente vai comemorar se o zagueiro do seu time entregar o ouro e deixar alguém na cara do gol para acertar os pontos no cartão que preencheu seja numa banca de jogo do bicho seja num site oficial de apostas \n",
      "\n",
      "\n",
      "\tOriginal summary: no brasil maiores de arbitragem estão a \n",
      "\tPredicted summary:  o que é ser de esquerda\n",
      "\n",
      "\n",
      "Review: modelo de origem inglesa que vai custar a partir de r 291 mil é o primeiro a trazer pequenas telas sensíveis ao toque no volante é o típico recurso que um dia chegará aos carros populares da mesma forma como ocorreu com o ar condicionado os sistemas de som e os sensores de estacionamento o ciclo sempre se renova o que antes era supérfluo torna se algo indispensável exigindo que a próxima geração do carro traga novos itens para atrair compradores em paralelo o mercado de acessórios acompanha as tendências e oferece os itens mais desejados por preços tudo tem seu preço veja quanto custam itens que melhoram a vida a bordo r 150 é quanto custa em média um kit que inclui câmera de ré e aparelho gps que funciona também como tela r 250 valor do kit de vidros elétricos dianteiros à venda em lojas de acessórios para o fiat mobi r 1 200 valor médio de um conjunto de forrações de couro para um carro compacto r 2 400 é a diferença de preços entre o volkswagen take up com câmbio manual r 48 8 mil e sua versão automatizada r 52 2 mil não inclui instalação \n",
      "\n",
      "\n",
      "\tOriginal summary: concorrência leva mais itens de para carros populares \n",
      "\tPredicted summary:  o que é ser um esquerda\n",
      "\n",
      "\n",
      "Review: de uma matança em massa robert muggah pesquisador do igarapé lista alguns passos necessários a saber 1 os investimentos devem apoiar se em dados em evidências é recomendável a criação de um sistema digital de monitoramento do crime 2 os recursos destinados ao policiamento e aos serviços sociais mesmo escassos devem ser direcionados para pessoas lugares e comportamentos de alto risco note se que o pesquisador faz de policiamento e serviços sociais um casal indissolúvel há quem diga que o fracasso das unidades de polícia pacificadora no rio de janeiro agora constatado se deve ao fato de que a polícia foi às comunidades mas os serviços sociais não foram 3 uma forte coesão social ou o que os sociólogos chamam de eficácia coletiva a habilidade dos membros da comunidade de controlar o comportamento de outros especialmente en bairros inclinados à violência 4 liderança as autoridades nacionais e locais a comunidade de negócios as ongs e as universidades devem apropriar se do problema para muggah a campanha se baseia no princípio de respeitar a vida e de fazer uso proporcional da força assegurando um equilíbrio entre medidas punitivas e preventivas além de assegurar o máximo de participação da sociedade no processo \n",
      "\n",
      "\n",
      "\tOriginal summary: para salvar mil vidas \n",
      "\tPredicted summary:  o que é ser um esquerda\n",
      "\n",
      "\n",
      "Review: a carta de 88 com acerto limita a atividade profissional do magistrado proibindo o acúmulo de funções e atividades alternativas salvo uma de magistério a regra é a transparência mas como a folha mostrou segunda feira 4 juízes dos tribunais superiores se consideram de informar remunerações recebidas por aulas e palestras a generalização do moradia mesmo quando desnecessário foi implementada por despacho liminar que se eterniza uma das razões para o modelo político de nomeação dos ministros do stf é justamente a contenção das ondas corporativas movimento que o ministro luiz fux em duas oportunidades durante a semana reclamou de críticas infundadas ao judiciário e defendeu a transferência de dois colaboradores do exílio nova iorquino para o exílio da papuda se na segunda manifestação o ministro por justa indignação revela eventual parcialidade em julgamento futuro da primeira sobressai o pensamento fantasioso quase insensato de que só o judiciário salva o brasil do naufrágio o supremo é capaz de exercer a função que dele se espera criar metas e programas de longo prazo que não se interrompam nas trocas de comando gerir bem recursos orçamentários e processos sinais de austeridade e se necessário opinião pública corporações e governos o caminho existe \n",
      "\n",
      "\n",
      "\tOriginal summary: supremo se \n",
      "\tPredicted summary:  o que é ser um prefeitura de combater um ano de jbs\n",
      "\n",
      "\n",
      "Review: capazes provoca sustos a cada constatação atrasadas todas a volta ao agravamento continuado das dificuldades de vida de multidões transfere energia às forças delinquentes – desde o seu início na infância ao pai desempregado que precisa de cargas roubadas para seu comércio de calçada e estômago a realidade não se esconde um fuzil ou revólver na mão de delinquente tem feito mais estrago na sociedade do que todos os fuzis da polícia fazem pela defesa da sociedade o roubo da pistola de um sargento fez o exército movimentar 500 soldados para recuperá la passou a ser a pistola mais valiosa do mundo embora nada valha para a sociedade e portanto para o país porque a pistola logo roubada de um civil fez o mesmo serviço para o delinquente contra a sociedade nas respectivas proporções e pretensões a ordem de um marcola ou de um fernandinho beira mar vinda da cadeia é capaz de mais efeitos do que a fala oficial de um michel temer na tv se os delinquentes crescem em número e em territórios a delinquência tem que crescer inclusive em outras linhas de ação poderosa nada de esta é a realidade da grande rocinha mais chamada de brasil \n",
      "\n",
      "\n",
      "\tOriginal summary: insucesso nas ações contra criminosos é rotina na grande rocinha \n",
      "\tPredicted summary:  o que é ser um esquerda\n",
      "\n",
      "\n",
      "Review: a 1967 distribuidora filmes r 159 90 em com br música não acabou não e o tal fim do durou menos de dois anos em abril de 2014 depois de ter anunciado a separação da banda três anos antes o grupo lançou o disco ao vivo the long com o show de despedida em nova york em dezembro de 2015 ressuscitou com o single will break your heart passou o ano de 2016 as burras de dinheiro em todo mundo ama uma banda famosa que volta não e agora lança seu novo álbum american dream o som continua igualzinho um funk eletrônico dançante que anima qualquer pista e agência de publicidade modernosa american dream estúdio sony music 2017 r 32 90 em livrariadafolha com br livro o suspense de stephen king a editora suma de letras continua a série de relançamentos da obra de stephen king com um dos melhores livros do autor louca obsessão uma história de suspense sobre um escritor que sofre um acidente de carro durante uma tempestade de neve e é resgatado por uma fã obcecada por seus livros louca obsessão autor stephen king editora suma de letras 328 págs r 39 90 em com br \n",
      "\n",
      "\n",
      "\tOriginal summary: com obras de nelson dos santos tem comédia sobre \n",
      "\tPredicted summary:  o que é ser um prefeitura de combater um ano de jbs\n",
      "\n",
      "\n",
      "Review: dividendos consolidando pessoa física e jurídica é de 44 pode se arrecadar algo a mais no brasil por esse caminho mas o espaço é bem menor do que se imagina o grosso de nossas distorções prejudiciais ao crescimento econômico inclusivo a maior arma de combate à pobreza no brasil e no mundo não tem origem no conflito entre equidade e crescimento na verdade a maior parte delas é fruto das ações dos grupos de pressão que criam isenções e favorecimentos para si em detrimento do bem comum a lista de meias entradas na feliz expressão de marcos lisboa e zeina latif é longa aposentadoria integral de servidor público contribuição compulsória sobre a folha para o sistema s grupos isentos de pagar ir excessos da bolsa ditadura excessos da lei rouanet regimes tributários especiais de pis cofins icms simples e lucro empréstimos subsidiados zona franca de manaus direito irrestrito de greve de servidor público benefícios aos estados do centro oeste apesar de a sua renda per capita ser equivalente à de minas gerais etc recentemente aprovou se lei que isenta idosos de pagar estacionamento em shoppings e tramita projeto para agentes penitenciários de pagar ir viva o país da meia entrada \n",
      "\n",
      "\n",
      "\tOriginal summary: conversa com celso \n"
     ]
    },
    {
     "name": "stdout",
     "output_type": "stream",
     "text": [
      "\tPredicted summary:  o que é ser um esquerda\n",
      "\n",
      "\n",
      "Review: palavras –mas suas implicações como os de ontem o general tem direito a suas próprias opiniões com a condição de que seja transferido à reserva por que villas bôas limita se a uma advertência protocolar e mesmo ela sob pressão do ministro da defesa o mistério remete aos movimentos ainda desconexos que escapam às telas dos radares numa ponta a crise da lava jato provocada pelo desastroso acordo do mp de janot com os irmãos batista semeia dúvidas sobre o futuro do combate judicial à corrupção sistêmica na outra a corrente periférica de golpistas civis procura estabelecer uma cabeça de ponte nos quarteis por meio da candidatura de jair bolsonaro que se apressou em compartilhar a palestra de mourão villas bôas identificou uma ofensiva em pinça –e equivocadamente preferiu recuar até uma trincheira defensiva o primeiro mourão operava para getúlio vargas em 1937 e para o núcleo golpista do alto comando em 1964 o segundo por ora apenas reproduz o discurso de grupelhos extremistas com baixa audiência militar –mas já ganhou a solidariedade do respeitado general da reserva augusto heleno seria a hora certa de lo na estrada cortando no nascedouro a articulação cívico militar e reafirmando o tabu constitucional \n",
      "\n",
      "\n",
      "\tOriginal summary: ausência de punição à de general indica que algo se move abaixo dos \n",
      "\tPredicted summary:  o que é ser um ueba zona de reforma e são paulo\n",
      "\n",
      "\n",
      "Review: da fraude em licitações à cobrança de propina para liberar empréstimos sua aposta mais lucrativa foi a eleição de eduardo cunha para a presidência da câmara em 2015 com um investimento de r 30 milhões repassados pela jbs o grupo teria subornado dezenas de parlamentares para conquistar a cadeira nela ampliou o poder de chantagem e multiplicou o faturamento dos negócios a pf afirma que o quadrilhão reunia seis amigos de longa data a lava jato já prendeu metade do time cunha henrique alves e geddel vieira lima o homem de r 51 milhões os outros três estão no palácio do planalto temer e os ministros eliseu padilha e moreira franco todos protegidos pelo foro privilegiado nesta terça o presidente ensaiou fazer um pronunciamento para rebater as conclusões do relatório assessores conseguiram demovê lo da ideia sem a opção de atacar janot ele teria que criar outra teoria conspiratória envolvendo a polícia federal que é subordinada a seu governo por fim temer divulgou uma nota em que protesta contra toda forma de injustiça chama os delatores de bandidos e afirma que facínoras roubam do país a verdade se o roubo se limitasse a isso o país ainda estaria no lucro \n",
      "\n",
      "\n",
      "\tOriginal summary: o roubo foi maior presidente \n",
      "\tPredicted summary:  o que é ser de esquerda\n",
      "\n",
      "\n",
      "Review: e da brutalidade policial o prefeito paulistano joão doria psdb se encaixa por estilo numa faixa de frequência que pode se comunicar com esse sentimento de temor seu rival interno no tucanato o padrinho geraldo alckmin tem em seu favor números se tem uma pm com fama de violenta e as estatísticas são um tanto falíveis o governador pode mostrar que o índice de homicídios no estado caiu de 21 9 mortes por 100 mil habitantes para 12 2 de 2005 a 2015 mais de seis desses anos sob seu governo direto o restante de aliados é uma taxa ainda mas quase escandinava quando comparada com a média nacional 28 9 homicídios por 100 mil habitantes em 2015 sempre segundo o atlas da violência 2017 é quase o dobro do que se mata proporcionalmente no conflagrado méxico e em números brutos produzimos mais cadáveres do que a guerra na síria naquele ano oferecer soluções para essa tragédia sem cair em falácias salvacionistas ou mistificações como as upps do rio ou as inúteis ocupações militares de morros é o desafio para os candidatos sob pena de vermos mais e mais cenas como as do alemão da rocinha nos anos a seguir \n",
      "\n",
      "\n",
      "\tOriginal summary: impacto da violência será sentido na eleição de 2018 e não apenas no rio \n",
      "\tPredicted summary:  o que é ser um pt\n",
      "\n",
      "\n"
     ]
    }
   ],
   "source": [
    "#print(reverse_target_word_index)\n",
    "for i in range(10):\n",
    "  print(\"Review:\",seq2text(x_val[i]))\n",
    "  print(\"\\n\")\n",
    "  print(\"\\tOriginal summary:\",seq2summary(y_val[i]))\n",
    "  print(\"\\tPredicted summary:\",decode_sequence(x_val[i].reshape(1,max_len_text)))\n",
    "  print(\"\\n\")"
   ]
  },
  {
   "cell_type": "code",
   "execution_count": 393,
   "metadata": {},
   "outputs": [],
   "source": [
    "\n",
    "model.load_weights('weights/weights-improvement-07-2.9450-bigger.hdf5')"
   ]
  },
  {
   "cell_type": "code",
   "execution_count": 382,
   "metadata": {},
   "outputs": [
    {
     "data": {
      "text/plain": [
       "(822, 200)"
      ]
     },
     "execution_count": 382,
     "metadata": {},
     "output_type": "execute_result"
    }
   ],
   "source": [
    "x_val.shape"
   ]
  },
  {
   "cell_type": "code",
   "execution_count": 394,
   "metadata": {},
   "outputs": [
    {
     "name": "stdout",
     "output_type": "stream",
     "text": [
      "Review: 1982 o milan foi parar na série b por envolvimento de seus jogadores e dirigentes no esquema das apostas na loteria esportiva em 2005 até o goleiro gianluigi buffon admitiu que participava de apostas num caso paralelo de manipulação escalas de arbitragem a juventus foi rebaixada não é só no brasil não é só no futebol não é só com bicheiros há apostas em jogos de tênis da nfl da nba do futebol inglês na itália no rio em são paulo com carimbo oficial dos governos com anúncio de sites em emissoras de televisão a cbf acaba de contratar uma empresa especializada em apostas ilegais para tentar vigiar e evitar que se repitam escândalos como os do passado todo mundo é inocente até que prove o contrário e se houver erro de algum árbitro um frango de um goleiro gol perdido por atacante não pense que foi porque quis errar eu vou lhe avisar goleiro não pode falhar mas muita gente vai comemorar se o zagueiro do seu time entregar o ouro e deixar alguém na cara do gol para acertar os pontos no cartão que preencheu seja numa banca de jogo do bicho seja num site oficial de apostas \n",
      "\tOriginal summary: no brasil maiores de arbitragem estão a \n",
      "\tPredicted summary:  o que não é o que não é de um aviso\n",
      "\n",
      "\n",
      "Review: modelo de origem inglesa que vai custar a partir de r 291 mil é o primeiro a trazer pequenas telas sensíveis ao toque no volante é o típico recurso que um dia chegará aos carros populares da mesma forma como ocorreu com o ar condicionado os sistemas de som e os sensores de estacionamento o ciclo sempre se renova o que antes era supérfluo torna se algo indispensável exigindo que a próxima geração do carro traga novos itens para atrair compradores em paralelo o mercado de acessórios acompanha as tendências e oferece os itens mais desejados por preços tudo tem seu preço veja quanto custam itens que melhoram a vida a bordo r 150 é quanto custa em média um kit que inclui câmera de ré e aparelho gps que funciona também como tela r 250 valor do kit de vidros elétricos dianteiros à venda em lojas de acessórios para o fiat mobi r 1 200 valor médio de um conjunto de forrações de couro para um carro compacto r 2 400 é a diferença de preços entre o volkswagen take up com câmbio manual r 48 8 mil e sua versão automatizada r 52 2 mil não inclui instalação \n",
      "\tOriginal summary: concorrência leva mais itens de para carros populares \n",
      "\tPredicted summary:  o que é o que não é o que não é de um lei do que não é de\n",
      "\n",
      "\n",
      "Review: de uma matança em massa robert muggah pesquisador do igarapé lista alguns passos necessários a saber 1 os investimentos devem apoiar se em dados em evidências é recomendável a criação de um sistema digital de monitoramento do crime 2 os recursos destinados ao policiamento e aos serviços sociais mesmo escassos devem ser direcionados para pessoas lugares e comportamentos de alto risco note se que o pesquisador faz de policiamento e serviços sociais um casal indissolúvel há quem diga que o fracasso das unidades de polícia pacificadora no rio de janeiro agora constatado se deve ao fato de que a polícia foi às comunidades mas os serviços sociais não foram 3 uma forte coesão social ou o que os sociólogos chamam de eficácia coletiva a habilidade dos membros da comunidade de controlar o comportamento de outros especialmente en bairros inclinados à violência 4 liderança as autoridades nacionais e locais a comunidade de negócios as ongs e as universidades devem apropriar se do problema para muggah a campanha se baseia no princípio de respeitar a vida e de fazer uso proporcional da força assegurando um equilíbrio entre medidas punitivas e preventivas além de assegurar o máximo de participação da sociedade no processo \n",
      "\tOriginal summary: para salvar mil vidas \n",
      "\tPredicted summary:  o que é o que não é o que não é de um ter o que não é de\n",
      "\n",
      "\n",
      "Review: a carta de 88 com acerto limita a atividade profissional do magistrado proibindo o acúmulo de funções e atividades alternativas salvo uma de magistério a regra é a transparência mas como a folha mostrou segunda feira 4 juízes dos tribunais superiores se consideram de informar remunerações recebidas por aulas e palestras a generalização do moradia mesmo quando desnecessário foi implementada por despacho liminar que se eterniza uma das razões para o modelo político de nomeação dos ministros do stf é justamente a contenção das ondas corporativas movimento que o ministro luiz fux em duas oportunidades durante a semana reclamou de críticas infundadas ao judiciário e defendeu a transferência de dois colaboradores do exílio nova iorquino para o exílio da papuda se na segunda manifestação o ministro por justa indignação revela eventual parcialidade em julgamento futuro da primeira sobressai o pensamento fantasioso quase insensato de que só o judiciário salva o brasil do naufrágio o supremo é capaz de exercer a função que dele se espera criar metas e programas de longo prazo que não se interrompam nas trocas de comando gerir bem recursos orçamentários e processos sinais de austeridade e se necessário opinião pública corporações e governos o caminho existe \n",
      "\tOriginal summary: supremo se \n",
      "\tPredicted summary:  a aviso\n",
      "\n",
      "\n",
      "Review: capazes provoca sustos a cada constatação atrasadas todas a volta ao agravamento continuado das dificuldades de vida de multidões transfere energia às forças delinquentes – desde o seu início na infância ao pai desempregado que precisa de cargas roubadas para seu comércio de calçada e estômago a realidade não se esconde um fuzil ou revólver na mão de delinquente tem feito mais estrago na sociedade do que todos os fuzis da polícia fazem pela defesa da sociedade o roubo da pistola de um sargento fez o exército movimentar 500 soldados para recuperá la passou a ser a pistola mais valiosa do mundo embora nada valha para a sociedade e portanto para o país porque a pistola logo roubada de um civil fez o mesmo serviço para o delinquente contra a sociedade nas respectivas proporções e pretensões a ordem de um marcola ou de um fernandinho beira mar vinda da cadeia é capaz de mais efeitos do que a fala oficial de um michel temer na tv se os delinquentes crescem em número e em territórios a delinquência tem que crescer inclusive em outras linhas de ação poderosa nada de esta é a realidade da grande rocinha mais chamada de brasil \n",
      "\tOriginal summary: insucesso nas ações contra criminosos é rotina na grande rocinha \n",
      "\tPredicted summary:  o que é o que não é o que não é de um país\n",
      "\n",
      "\n",
      "Review: a 1967 distribuidora filmes r 159 90 em com br música não acabou não e o tal fim do durou menos de dois anos em abril de 2014 depois de ter anunciado a separação da banda três anos antes o grupo lançou o disco ao vivo the long com o show de despedida em nova york em dezembro de 2015 ressuscitou com o single will break your heart passou o ano de 2016 as burras de dinheiro em todo mundo ama uma banda famosa que volta não e agora lança seu novo álbum american dream o som continua igualzinho um funk eletrônico dançante que anima qualquer pista e agência de publicidade modernosa american dream estúdio sony music 2017 r 32 90 em livrariadafolha com br livro o suspense de stephen king a editora suma de letras continua a série de relançamentos da obra de stephen king com um dos melhores livros do autor louca obsessão uma história de suspense sobre um escritor que sofre um acidente de carro durante uma tempestade de neve e é resgatado por uma fã obcecada por seus livros louca obsessão autor stephen king editora suma de letras 328 págs r 39 90 em com br \n",
      "\tOriginal summary: com obras de nelson dos santos tem comédia sobre \n",
      "\tPredicted summary:  aviso\n",
      "\n",
      "\n",
      "Review: dividendos consolidando pessoa física e jurídica é de 44 pode se arrecadar algo a mais no brasil por esse caminho mas o espaço é bem menor do que se imagina o grosso de nossas distorções prejudiciais ao crescimento econômico inclusivo a maior arma de combate à pobreza no brasil e no mundo não tem origem no conflito entre equidade e crescimento na verdade a maior parte delas é fruto das ações dos grupos de pressão que criam isenções e favorecimentos para si em detrimento do bem comum a lista de meias entradas na feliz expressão de marcos lisboa e zeina latif é longa aposentadoria integral de servidor público contribuição compulsória sobre a folha para o sistema s grupos isentos de pagar ir excessos da bolsa ditadura excessos da lei rouanet regimes tributários especiais de pis cofins icms simples e lucro empréstimos subsidiados zona franca de manaus direito irrestrito de greve de servidor público benefícios aos estados do centro oeste apesar de a sua renda per capita ser equivalente à de minas gerais etc recentemente aprovou se lei que isenta idosos de pagar estacionamento em shoppings e tramita projeto para agentes penitenciários de pagar ir viva o país da meia entrada \n",
      "\tOriginal summary: conversa com celso \n"
     ]
    },
    {
     "name": "stdout",
     "output_type": "stream",
     "text": [
      "\tPredicted summary:  o que é o que não é o que não é de um país\n",
      "\n",
      "\n",
      "Review: palavras –mas suas implicações como os de ontem o general tem direito a suas próprias opiniões com a condição de que seja transferido à reserva por que villas bôas limita se a uma advertência protocolar e mesmo ela sob pressão do ministro da defesa o mistério remete aos movimentos ainda desconexos que escapam às telas dos radares numa ponta a crise da lava jato provocada pelo desastroso acordo do mp de janot com os irmãos batista semeia dúvidas sobre o futuro do combate judicial à corrupção sistêmica na outra a corrente periférica de golpistas civis procura estabelecer uma cabeça de ponte nos quarteis por meio da candidatura de jair bolsonaro que se apressou em compartilhar a palestra de mourão villas bôas identificou uma ofensiva em pinça –e equivocadamente preferiu recuar até uma trincheira defensiva o primeiro mourão operava para getúlio vargas em 1937 e para o núcleo golpista do alto comando em 1964 o segundo por ora apenas reproduz o discurso de grupelhos extremistas com baixa audiência militar –mas já ganhou a solidariedade do respeitado general da reserva augusto heleno seria a hora certa de lo na estrada cortando no nascedouro a articulação cívico militar e reafirmando o tabu constitucional \n",
      "\tOriginal summary: ausência de punição à de general indica que algo se move abaixo dos \n",
      "\tPredicted summary:  o que é o que não é o que não é de um ter o que não é de\n",
      "\n",
      "\n",
      "Review: da fraude em licitações à cobrança de propina para liberar empréstimos sua aposta mais lucrativa foi a eleição de eduardo cunha para a presidência da câmara em 2015 com um investimento de r 30 milhões repassados pela jbs o grupo teria subornado dezenas de parlamentares para conquistar a cadeira nela ampliou o poder de chantagem e multiplicou o faturamento dos negócios a pf afirma que o quadrilhão reunia seis amigos de longa data a lava jato já prendeu metade do time cunha henrique alves e geddel vieira lima o homem de r 51 milhões os outros três estão no palácio do planalto temer e os ministros eliseu padilha e moreira franco todos protegidos pelo foro privilegiado nesta terça o presidente ensaiou fazer um pronunciamento para rebater as conclusões do relatório assessores conseguiram demovê lo da ideia sem a opção de atacar janot ele teria que criar outra teoria conspiratória envolvendo a polícia federal que é subordinada a seu governo por fim temer divulgou uma nota em que protesta contra toda forma de injustiça chama os delatores de bandidos e afirma que facínoras roubam do país a verdade se o roubo se limitasse a isso o país ainda estaria no lucro \n",
      "\tOriginal summary: o roubo foi maior presidente \n",
      "\tPredicted summary:  o que é o que é o que não é de um dia de um país\n",
      "\n",
      "\n",
      "Review: e da brutalidade policial o prefeito paulistano joão doria psdb se encaixa por estilo numa faixa de frequência que pode se comunicar com esse sentimento de temor seu rival interno no tucanato o padrinho geraldo alckmin tem em seu favor números se tem uma pm com fama de violenta e as estatísticas são um tanto falíveis o governador pode mostrar que o índice de homicídios no estado caiu de 21 9 mortes por 100 mil habitantes para 12 2 de 2005 a 2015 mais de seis desses anos sob seu governo direto o restante de aliados é uma taxa ainda mas quase escandinava quando comparada com a média nacional 28 9 homicídios por 100 mil habitantes em 2015 sempre segundo o atlas da violência 2017 é quase o dobro do que se mata proporcionalmente no conflagrado méxico e em números brutos produzimos mais cadáveres do que a guerra na síria naquele ano oferecer soluções para essa tragédia sem cair em falácias salvacionistas ou mistificações como as upps do rio ou as inúteis ocupações militares de morros é o desafio para os candidatos sob pena de vermos mais e mais cenas como as do alemão da rocinha nos anos a seguir \n",
      "\tOriginal summary: impacto da violência será sentido na eleição de 2018 e não apenas no rio \n",
      "\tPredicted summary:  o que não é o que não é o que não é de um ter o que não é\n",
      "\n",
      "\n"
     ]
    }
   ],
   "source": [
    "#print(reverse_target_word_index)\n",
    "for i in range(10):\n",
    "  print(\"Review:\",seq2text(x_val[i]))\n",
    "  print(\"\\tOriginal summary:\",seq2summary(y_val[i]))\n",
    "  print(\"\\tPredicted summary:\",decode_sequence(x_val[i].reshape(1,max_len_text)))\n",
    "  print(\"\\n\")"
   ]
  },
  {
   "cell_type": "code",
   "execution_count": null,
   "metadata": {},
   "outputs": [],
   "source": []
  },
  {
   "cell_type": "code",
   "execution_count": null,
   "metadata": {},
   "outputs": [],
   "source": []
  },
  {
   "cell_type": "code",
   "execution_count": 373,
   "metadata": {},
   "outputs": [],
   "source": [
    "teste = '''\n",
    "Na avaliação destes militares, a continuar neste ritmo, Bolsonaro acabará forçando os colegas das Forças Armadas a repensarem se vale a pena seguir em seus cargos no governo. Pois, se permanecerem, é como se os militares dessem aval às polêmicas e confusões criadas pelo presidente da República.\n",
    "'''\n"
   ]
  },
  {
   "cell_type": "code",
   "execution_count": 374,
   "metadata": {},
   "outputs": [],
   "source": [
    "teste = clean_text(teste)"
   ]
  },
  {
   "cell_type": "code",
   "execution_count": 375,
   "metadata": {},
   "outputs": [],
   "source": [
    "testeVetorizado = x_tokenizer.texts_to_sequences([teste])"
   ]
  },
  {
   "cell_type": "code",
   "execution_count": 376,
   "metadata": {},
   "outputs": [],
   "source": [
    "testeVetorizado = pad_sequences(testeVetorizado,  maxlen=max_len_text, padding='post') "
   ]
  },
  {
   "cell_type": "code",
   "execution_count": 377,
   "metadata": {},
   "outputs": [
    {
     "name": "stdout",
     "output_type": "stream",
     "text": [
      "Review: na avaliação destes militares a continuar neste ritmo bolsonaro acabará forçando os colegas das forças armadas a se vale a pena seguir em seus cargos no governo pois se permanecerem é como se os militares dessem aval às polêmicas e confusões criadas pelo presidente da república \n"
     ]
    }
   ],
   "source": [
    "for item in testeVetorizado:\n",
    "    print(\"Review:\",seq2text(item))"
   ]
  },
  {
   "cell_type": "code",
   "execution_count": 378,
   "metadata": {},
   "outputs": [
    {
     "name": "stdout",
     "output_type": "stream",
     "text": [
      "\tPredicted summary:  o que é o que não é o que não é de um ele tem\n"
     ]
    }
   ],
   "source": [
    "print(\"\\tPredicted summary:\",decode_sequence(testeVetorizado.reshape(1,max_len_text)))\n"
   ]
  },
  {
   "cell_type": "code",
   "execution_count": null,
   "metadata": {},
   "outputs": [],
   "source": []
  },
  {
   "cell_type": "code",
   "execution_count": null,
   "metadata": {},
   "outputs": [],
   "source": []
  }
 ],
 "metadata": {
  "kernelspec": {
   "display_name": "Python 3",
   "language": "python",
   "name": "python3"
  },
  "language_info": {
   "codemirror_mode": {
    "name": "ipython",
    "version": 3
   },
   "file_extension": ".py",
   "mimetype": "text/x-python",
   "name": "python",
   "nbconvert_exporter": "python",
   "pygments_lexer": "ipython3",
   "version": "3.6.8"
  }
 },
 "nbformat": 4,
 "nbformat_minor": 2
}
